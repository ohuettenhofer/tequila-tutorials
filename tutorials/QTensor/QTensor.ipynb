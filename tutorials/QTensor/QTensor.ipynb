{
 "cells": [
  {
   "cell_type": "markdown",
   "id": "e4ae2d40",
   "metadata": {},
   "source": [
    "---\n",
    "title: \"QTensor\"\n",
    "author:\n",
    "    - name: Gaurav Saxena\n",
    "    - name: Adapted by Elisabeth Welizky\n",
    "date: \"2024-06-21\"\n",
    "categories: [code]\n",
    "image: \"qtensor.png\"\n",
    "image-width: \"1cm\"\n",
    "image-height: \"1cm\"\n",
    "format:\n",
    "    html:\n",
    "        code-fold: true\n",
    "        eval: true\n",
    "jupyter: blogqa\n",
    "code-annotations: hover\n",
    "---"
   ]
  },
  {
   "cell_type": "markdown",
   "id": "59528bf1",
   "metadata": {},
   "source": [
    "\n",
    "This tutorial introduces you to the QTensor class using which you can form vectors, matrices, or tensors whose elements are tequila objectives. This class is derived from numpy.ndarray and therefore, all operations that can be performed on an ndarray object can be performed on a QTensor object.\n",
    "\n",
    "# A short tutorial on using QTensor class\n",
    "\n",
    "\n",
    "<img title=\"Example of the QTensor Usage\" alt=\"Example\" src=\"qtensor.png\" width=600>\n",
    "\n",
    "\n",
    "First, let's take a look at the available simulators:\n"
   ]
  },
  {
   "cell_type": "markdown",
   "id": "75fccb5b",
   "metadata": {},
   "source": []
  },
  {
   "cell_type": "code",
   "id": "eaff0803",
   "metadata": {
    "scrolled": true,
    "ExecuteTime": {
     "end_time": "2024-09-04T12:24:51.277846Z",
     "start_time": "2024-09-04T12:24:51.275524Z"
    }
   },
   "source": [
    "import tequila as tq\n",
    "from tequila import numpy\n",
    "from numpy import pi\n",
    "tq.show_available_simulators()                                                       #<1>"
   ],
   "outputs": [
    {
     "name": "stdout",
     "output_type": "stream",
     "text": [
      "backend         | wfn        | sampling   | noise      | installed \n",
      "--------------------------------------------------------------------\n",
      "qulacs_gpu      | False      | False      | False      | False     \n",
      "qulacs          | True       | True       | True       | True      \n",
      "qibo            | False      | False      | False      | False     \n",
      "qiskit          | False      | False      | False      | False     \n",
      "cirq            | False      | False      | False      | False     \n",
      "pyquil          | True       | True       | True       | True      \n",
      "symbolic        | True       | False      | False      | True      \n",
      "qlm             | False      | False      | False      | False     \n"
     ]
    }
   ],
   "execution_count": 31
  },
  {
   "cell_type": "markdown",
   "id": "b1464c10",
   "metadata": {},
   "source": [
    "We first create some simple Hamiltonians and tequila objectives to be used as elements in forthcoming examples"
   ]
  },
  {
   "cell_type": "code",
   "id": "af834128",
   "metadata": {
    "ExecuteTime": {
     "end_time": "2024-09-04T12:24:51.314922Z",
     "start_time": "2024-09-04T12:24:51.310874Z"
    }
   },
   "source": [
    "#| code-fold: false\n",
    "# Hamiltonians\n",
    "H = tq.paulis.X(0)\n",
    "Hz = tq.paulis.Z(0)\n",
    "\n",
    "# Gates/circuits\n",
    "U1 = tq.gates.Ry(angle='a',target=0) \n",
    "U2 = tq.gates.X(0)+U1\n",
    "U3 = tq.gates.Ry(angle='b',target=0) \n",
    "\n",
    "# Expectation Values\n",
    "E1 = tq.ExpectationValue(H=H, U=U1)\n",
    "E2 = tq.ExpectationValue(H=H, U=U2)\n",
    "E3 = tq.ExpectationValue(H=H, U=U1+U3)\n",
    "E4 = tq.ExpectationValue(H=H, U=U3)\n",
    "E5 = tq.ExpectationValue(H=Hz, U=U1)\n",
    "E6 = tq.ExpectationValue(H=Hz, U = U3)\n",
    "\n",
    "# variables\n",
    "variables={'a':numpy.pi/4, 'b':numpy.pi/3} "
   ],
   "outputs": [],
   "execution_count": 32
  },
  {
   "cell_type": "markdown",
   "id": "29ebbfc8",
   "metadata": {},
   "source": [
    "Now let us construct QTensors.<br>\n",
    "First suppose we want an array (of objectives) of length 3. We define a QTensor in the following way:"
   ]
  },
  {
   "cell_type": "code",
   "id": "a28ea8a9",
   "metadata": {
    "ExecuteTime": {
     "end_time": "2024-09-04T12:24:51.319280Z",
     "start_time": "2024-09-04T12:24:51.317363Z"
    }
   },
   "source": [
    "V1 = tq.QTensor(shape=[3])\n",
    "V1[0] = E1\n",
    "V1[1] = E2\n",
    "V1[2] = E3"
   ],
   "outputs": [],
   "execution_count": 33
  },
  {
   "cell_type": "markdown",
   "id": "79d89b86",
   "metadata": {},
   "source": [
    "In the above example, we first initialized a QTensor of `shape` (3,1). Then, we assigned a tequila objective to each element of the QTensor.<br>\n",
    "Another way of initializing a QTensor is by providing it an objective list (using `objective_list`) and a `shape` as follows. "
   ]
  },
  {
   "cell_type": "code",
   "id": "cd23a577",
   "metadata": {
    "ExecuteTime": {
     "end_time": "2024-09-04T12:24:51.321829Z",
     "start_time": "2024-09-04T12:24:51.320121Z"
    }
   },
   "source": [
    "V1_ = tq.QTensor(objective_list = [E1,E2,E3], shape=[3])"
   ],
   "outputs": [],
   "execution_count": 34
  },
  {
   "cell_type": "markdown",
   "id": "a76e4ae4",
   "metadata": {},
   "source": [
    "Caution: The elements of `objctive_list` must be tequila objectives!"
   ]
  },
  {
   "cell_type": "markdown",
   "id": "f310950b",
   "metadata": {},
   "source": [
    "To view the details of the QTensor, we can use `print(<QTensor_name>)`:"
   ]
  },
  {
   "cell_type": "code",
   "id": "dfc0074d",
   "metadata": {
    "ExecuteTime": {
     "end_time": "2024-09-04T12:24:51.325965Z",
     "start_time": "2024-09-04T12:24:51.324001Z"
    }
   },
   "source": [
    "print('V1:',V1)\n",
    "print('\\n')\n",
    "print('V1_:',V1_)"
   ],
   "outputs": [
    {
     "name": "stdout",
     "output_type": "stream",
     "text": [
      "V1: QTensor of shape (3,) with 3 unique expectation values\n",
      "total measurements = 3\n",
      "variables          = [a, b]\n",
      "types              = not compiled\n",
      "\n",
      "\n",
      "V1_: QTensor of shape (3,) with 3 unique expectation values\n",
      "total measurements = 3\n",
      "variables          = [a, b]\n",
      "types              = not compiled\n"
     ]
    }
   ],
   "execution_count": 35
  },
  {
   "cell_type": "markdown",
   "id": "0a2b9d5c",
   "metadata": {},
   "source": [
    "Similarly, we can create matrices and tensors. \n",
    "Note that it is not necessary that the tensor element is a single expectation value.\n",
    "See the following example:"
   ]
  },
  {
   "cell_type": "code",
   "id": "a67a44dd",
   "metadata": {
    "ExecuteTime": {
     "end_time": "2024-09-04T12:24:51.329113Z",
     "start_time": "2024-09-04T12:24:51.326771Z"
    }
   },
   "source": [
    "#| code-fold: false\n",
    "V2 = tq.QTensor(shape=[2,2])\n",
    "V2[0,0] = E1\n",
    "V2[0,1] = E4\n",
    "V2[1,0] = E5\n",
    "V2[1,1] = E6 + E5.apply(tq.numpy.square)"
   ],
   "outputs": [],
   "execution_count": 36
  },
  {
   "cell_type": "markdown",
   "id": "7e5cb63b",
   "metadata": {},
   "source": [
    "We can similarly create tensors. Below we create a `(2,2,2)` tensor wich has 8 elements and we fill it using 6 different expectation values"
   ]
  },
  {
   "cell_type": "code",
   "id": "e466a873",
   "metadata": {
    "ExecuteTime": {
     "end_time": "2024-09-04T12:24:51.332652Z",
     "start_time": "2024-09-04T12:24:51.330037Z"
    }
   },
   "source": [
    "V3 = tq.QTensor(shape=[2,2,2])\n",
    "V3[0,0,0] = E1\n",
    "V3[0,0,1] = E2\n",
    "V3[0,1,0] = E3\n",
    "V3[0,1,1] = E4\n",
    "V3[1,0,0] = E5\n",
    "V3[1,0,1] = E6\n",
    "V3[1,1,0] = E4\n",
    "V3[1,1,1] = E3 + E4**2\n",
    "print(\"V2:\\n\",V2)\n",
    "print(\"\\nV3:\\n\",V3)"
   ],
   "outputs": [
    {
     "name": "stdout",
     "output_type": "stream",
     "text": [
      "V2:\n",
      " QTensor of shape (2, 2) with 4 unique expectation values\n",
      "total measurements = 4\n",
      "variables          = [a, b]\n",
      "types              = not compiled\n",
      "\n",
      "V3:\n",
      " QTensor of shape (2, 2, 2) with 6 unique expectation values\n",
      "total measurements = 6\n",
      "variables          = [a, b]\n",
      "types              = not compiled\n"
     ]
    }
   ],
   "execution_count": 37
  },
  {
   "cell_type": "markdown",
   "id": "089ff037",
   "metadata": {},
   "source": [
    "## Compilation and Simulation\n",
    "We can compile and simulate QTensors in exactly the same way as we compile and simulate objectives."
   ]
  },
  {
   "cell_type": "code",
   "id": "742c5f0e",
   "metadata": {
    "ExecuteTime": {
     "end_time": "2024-09-04T12:24:51.337259Z",
     "start_time": "2024-09-04T12:24:51.333628Z"
    }
   },
   "source": [
    "print(tq.simulate(V1,variables)) "
   ],
   "outputs": [
    {
     "name": "stdout",
     "output_type": "stream",
     "text": [
      "[ 0.70710678 -0.70710678  0.96592583]\n"
     ]
    }
   ],
   "execution_count": 38
  },
  {
   "cell_type": "code",
   "id": "c1a7b6b7",
   "metadata": {
    "ExecuteTime": {
     "end_time": "2024-09-04T12:24:51.342192Z",
     "start_time": "2024-09-04T12:24:51.337774Z"
    }
   },
   "source": [
    "V4 = tq.compile(V2,variables)\n",
    "print(V4,'\\n')\n",
    "print(V4(variables))"
   ],
   "outputs": [
    {
     "name": "stdout",
     "output_type": "stream",
     "text": [
      "QTensor of shape (2, 2) with 5 unique expectation values\n",
      "total measurements = 5\n",
      "variables          = [a, b]\n",
      "types              = [<class 'tequila.simulators.simulator_qulacs.BackendExpectationValueQulacs'>] \n",
      "\n",
      "[[0.70710678 0.8660254 ]\n",
      " [0.70710678 1.        ]]\n"
     ]
    }
   ],
   "execution_count": 39
  },
  {
   "cell_type": "markdown",
   "id": "995019a2",
   "metadata": {},
   "source": [
    "## Applying transformations on QTensors\n",
    "\n",
    "We can apply any operation to the QTensor like we apply to a tequila objective. In the case of QTensors, the function/operation is applied element-wise. For instance"
   ]
  },
  {
   "cell_type": "code",
   "id": "5f8c7209",
   "metadata": {
    "ExecuteTime": {
     "end_time": "2024-09-04T12:24:51.344294Z",
     "start_time": "2024-09-04T12:24:51.342764Z"
    }
   },
   "source": [
    "#| code-fold: false\n",
    "V5 = V1.apply(numpy.exp)"
   ],
   "outputs": [],
   "execution_count": 40
  },
  {
   "cell_type": "code",
   "id": "ed06243f",
   "metadata": {
    "ExecuteTime": {
     "end_time": "2024-09-04T12:24:51.383082Z",
     "start_time": "2024-09-04T12:24:51.378287Z"
    }
   },
   "source": [
    "print(V5)\n",
    "print(tq.simulate(V5,variables))"
   ],
   "outputs": [
    {
     "name": "stdout",
     "output_type": "stream",
     "text": [
      "QTensor of shape (3,) with 3 unique expectation values\n",
      "total measurements = 3\n",
      "variables          = [a, b]\n",
      "types              = not compiled\n",
      "[2.02811498 0.49306869 2.62721888]\n"
     ]
    }
   ],
   "execution_count": 41
  },
  {
   "cell_type": "code",
   "id": "531db7cc",
   "metadata": {
    "ExecuteTime": {
     "end_time": "2024-09-04T12:24:51.389677Z",
     "start_time": "2024-09-04T12:24:51.384800Z"
    }
   },
   "source": [
    "V6 = V2.apply(numpy.sin)\n",
    "\n",
    "print(repr(V6))\n",
    "\n",
    "V6compiled  = tq.compile(V6,variables)\n",
    "print(repr(V6compiled))\n",
    "print(V6compiled(variables))\n",
    "\n",
    "# print(tq.simulate(V6,variables))"
   ],
   "outputs": [
    {
     "name": "stdout",
     "output_type": "stream",
     "text": [
      "array([['f([a])', 'f([b])'],\n",
      "       ['f([a])', 'f([b, a])']], dtype=object)\n",
      "array([['f([a])', 'f([b])'],\n",
      "       ['f([a])', 'f([b, a])']], dtype=object)\n",
      "[[0.64963694 0.76175998]\n",
      " [0.64963694 0.84147098]]\n"
     ]
    }
   ],
   "execution_count": 42
  },
  {
   "cell_type": "markdown",
   "id": "8f6b3d27",
   "metadata": {},
   "source": [
    "You can even define your own function and give it as input:"
   ]
  },
  {
   "cell_type": "code",
   "id": "988a6e1f",
   "metadata": {
    "ExecuteTime": {
     "end_time": "2024-09-04T12:24:51.398720Z",
     "start_time": "2024-09-04T12:24:51.392291Z"
    }
   },
   "source": [
    "#| code-fold: false\n",
    "def my_func(x):\n",
    "    return 2*x\n",
    "\n",
    "V7 = V3.apply(my_func)\n",
    "print(tq.simulate(V7,variables))"
   ],
   "outputs": [
    {
     "name": "stdout",
     "output_type": "stream",
     "text": [
      "[[[ 1.41421356 -1.41421356]\n",
      "  [ 1.93185165  1.73205081]]\n",
      "\n",
      " [[ 1.41421356  1.        ]\n",
      "  [ 1.73205081  3.43185165]]]\n"
     ]
    }
   ],
   "execution_count": 43
  },
  {
   "cell_type": "markdown",
   "id": "c894b5bc",
   "metadata": {},
   "source": [
    "Similarly, we can apply gradient function on QTensor. `grad` is applied on each element of the QTensor"
   ]
  },
  {
   "cell_type": "code",
   "id": "f382682d",
   "metadata": {
    "scrolled": false,
    "ExecuteTime": {
     "end_time": "2024-09-04T12:24:51.408849Z",
     "start_time": "2024-09-04T12:24:51.401710Z"
    }
   },
   "source": [
    "# print(V6)\n",
    "dV2da = tq.grad(V2,'a')\n",
    "\n",
    "print(repr(dV2da))\n",
    "print(type(dV2da))\n",
    "print(dV2da)\n",
    "\n",
    "dV2dab = tq.grad(dV2da,'b')\n",
    "print(dV2dab)\n",
    "# compiled_dV2 = tq.compile(dV2da)\n",
    "# print(compiled_dV2(variables))\n",
    "\n",
    "print(tq.simulate(dV2dab,variables))"
   ],
   "outputs": [
    {
     "name": "stdout",
     "output_type": "stream",
     "text": [
      "array([['f([a])', 'f([])'],\n",
      "       ['f([a])', 'f([b, a])']], dtype=object)\n",
      "<class 'tequila.objective.qtensor.QTensor'>\n",
      "QTensor of shape (2, 2) with 8 unique expectation values\n",
      "total measurements = 8\n",
      "variables          = [a, b]\n",
      "types              = not compiled\n",
      "QTensor of shape (2, 2) with 6 unique expectation values\n",
      "total measurements = 6\n",
      "variables          = [b, a]\n",
      "types              = not compiled\n",
      "[[0. 0.]\n",
      " [0. 0.]]\n"
     ]
    }
   ],
   "execution_count": 44
  },
  {
   "cell_type": "markdown",
   "id": "5e657ad1",
   "metadata": {},
   "source": [
    "With these QTensors, we can do all the operations that we can with numpy arrays. Some of them are given below:"
   ]
  },
  {
   "cell_type": "code",
   "id": "703fdd1b",
   "metadata": {
    "ExecuteTime": {
     "end_time": "2024-09-04T12:24:51.442089Z",
     "start_time": "2024-09-04T12:24:51.437750Z"
    }
   },
   "source": [
    "V8 = V2*V2\n",
    "V9 = numpy.dot(V1,V1)           #<1>\n",
    "V10 = numpy.dot(V2,V2)\n",
    "V11 = numpy.matmul(V2,V2)\n",
    "\n",
    "print(tq.simulate(V9,variables)) #<2>\n",
    "print(\"Type(V10): \")\n",
    "print(type(V10))"
   ],
   "outputs": [
    {
     "name": "stdout",
     "output_type": "stream",
     "text": [
      "1.9330127018922196\n",
      "Type(V10): \n",
      "<class 'tequila.objective.qtensor.QTensor'>\n"
     ]
    }
   ],
   "execution_count": 45
  },
  {
   "cell_type": "markdown",
   "id": "fa0914f8",
   "metadata": {},
   "source": [
    "1. Dot product of two arrays:\n",
    "2. Some operations on the results"
   ]
  },
  {
   "cell_type": "markdown",
   "id": "05293314",
   "metadata": {},
   "source": [
    "However, there is one exception that we found. The `tensordot` method returns an ndarray rather than a QTensor when acting on QTensor objects. If such an issue occurs, recast as follows:"
   ]
  },
  {
   "cell_type": "code",
   "id": "f8b821e1",
   "metadata": {
    "ExecuteTime": {
     "end_time": "2024-09-04T12:24:51.445225Z",
     "start_time": "2024-09-04T12:24:51.443065Z"
    }
   },
   "source": [
    "V12 = numpy.tensordot(V3,V3)\n",
    "\n",
    "print(list(V12.flatten()))\n",
    "print(type(V12[0,0]))"
   ],
   "outputs": [
    {
     "name": "stdout",
     "output_type": "stream",
     "text": [
      "[f([a, b]), f([a, b]), f([a, b]), f([a, b])]\n",
      "<class 'tequila.objective.objective.Objective'>\n"
     ]
    }
   ],
   "execution_count": 46
  },
  {
   "cell_type": "code",
   "id": "ead01da1",
   "metadata": {
    "ExecuteTime": {
     "end_time": "2024-09-04T12:24:51.458489Z",
     "start_time": "2024-09-04T12:24:51.447102Z"
    }
   },
   "source": [
    "V13 = tq.QTensor(objective_list = list(V12.flatten()),shape=V12.shape)\n",
    "print(V13)\n",
    "print(type(V13[0,1]))\n",
    "print(tq.simulate(V13,variables ))"
   ],
   "outputs": [
    {
     "name": "stdout",
     "output_type": "stream",
     "text": [
      "QTensor of shape (2, 2) with 6 unique expectation values\n",
      "total measurements = 6\n",
      "variables          = [a, b]\n",
      "types              = not compiled\n",
      "<class 'tequila.objective.objective.Objective'>\n",
      "[[1.25       0.85662583]\n",
      " [3.08137071 3.31042685]]\n"
     ]
    }
   ],
   "execution_count": 47
  }
 ],
 "metadata": {
  "kernelspec": {
   "display_name": "BlogQA",
   "language": "python",
   "name": "python3"
  },
  "language_info": {
   "codemirror_mode": {
    "name": "ipython",
    "version": 3
   },
   "file_extension": ".py",
   "mimetype": "text/x-python",
   "name": "python",
   "nbconvert_exporter": "python",
   "pygments_lexer": "ipython3",
   "version": "3.9.19"
  }
 },
 "nbformat": 4,
 "nbformat_minor": 5
}
