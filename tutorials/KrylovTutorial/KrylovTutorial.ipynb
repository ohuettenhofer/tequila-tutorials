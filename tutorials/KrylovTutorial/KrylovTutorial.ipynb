{
 "cells": [
  {
   "cell_type": "markdown",
   "metadata": {},
   "source": [
    "---\n",
    "title: \"Krylov Method with Tequila\"\n",
    "author: \n",
    "    - name: Francesco Scala \n",
    "    - name: Adapted by Thuy Truong\n",
    "date: \"2024-07-12\"\n",
    "categories: [code]\n",
    "image: \"krylov.png\"\n",
    "image-width: \"1cm\"\n",
    "image-height: \"1cm\"\n",
    "format:\n",
    "    html:\n",
    "        code-fold: false\n",
    "        eval: true\n",
    "jupyter: blogqa\n",
    "code-annotations: hover\n",
    "---"
   ]
  },
  {
   "cell_type": "markdown",
   "metadata": {},
   "source": [
    "In this tequila tutorial you can learn how to apply the **Krylov method** to approximate the ground state of a given Hamiltonian.\n",
    "\n",
    "# Theoretical introduction\n",
    "\n",
    "Here we briefly introduce the main idea of the `MultiReference Selected Quantum Krylov (MRSQK)` method motivating why it is useful to have it implemented in Tequila."
   ]
  },
  {
   "cell_type": "markdown",
   "metadata": {},
   "source": [
    "MRSQK is a low-cost alternative to the quantum phase estimation algorithm that allows to generate the ground state of an hamiltonian as a linear combination of non-orthogonal Krylov basis states $\\mathcal{K}_s = \\{\\psi_\\alpha, \\ \\alpha=1, 2,  ... , N\\}$. This basis is usually obtained via real time evolution from a reference set of states.\n",
    "\n",
    "So, given an hamiltonian $H$ and a Krylov basis $\\mathcal{K}_s$, the ground state of $H$ can be written as:\n",
    "\n",
    "$$|\\Psi\\rangle = \\sum_\\alpha c_\\alpha|\\psi_\\alpha\\rangle \\quad .$$\n",
    "\n",
    "The coefficients $c_\\alpha$ and the ground energy value $E$ can be obtained by solving the following generalized eigenvalue problem:\n",
    "$$\\mathbf{Hc} = \\mathbf{Sc}E$$\n",
    "where the elements of the overlap matrix ($\\mathbf{S}$) and Hamiltonian ($\\mathbf{H}$) are \n",
    "$$S_{\\alpha\\beta} = \\langle\\psi_\\alpha|\\psi_\\beta\\rangle \\quad ,$$\n",
    "$$H_{\\alpha\\beta} = \\langle\\psi_\\alpha|H|\\psi_\\beta\\rangle \\quad .$$"
   ]
  },
  {
   "cell_type": "markdown",
   "metadata": {},
   "source": [
    "Luckily, with tequila we can easily compute terms like $S_{\\alpha\\beta}$ and $H_{\\alpha\\beta}$ thanks to the `tq.braket` function. The `krylov_method` function uses it and allows to easily solve the generalized eigenvalue problem giving as output the energy $E$ and the coefficients $c_\\alpha$.\n",
    "\n",
    "# Simple example"
   ]
  },
  {
   "cell_type": "code",
   "metadata": {
    "ExecuteTime": {
     "end_time": "2024-07-19T13:24:50.350793Z",
     "start_time": "2024-07-19T13:24:50.348512Z"
    }
   },
   "source": [
    "import tequila as tq\n",
    "from tequila.apps.krylov import krylov_method\n",
    "from tequila.hamiltonian.qubit_hamiltonian import QubitHamiltonian\n",
    "from tequila.tools.random_generators import make_random_circuit\n",
    "import itertools as it\n",
    "import numpy as np"
   ],
   "outputs": [],
   "execution_count": 11
  },
  {
   "cell_type": "markdown",
   "metadata": {},
   "source": [
    "Here we present a simple/trivial example in which we apply MRSQK. In order to do this, we create two quantum circuits randomly, $|\\psi\\rangle$ and $|\\phi\\rangle$, and we use these as Krylov basis. "
   ]
  },
  {
   "cell_type": "code",
   "metadata": {
    "ExecuteTime": {
     "end_time": "2024-07-19T13:24:50.366743Z",
     "start_time": "2024-07-19T13:24:50.361954Z"
    }
   },
   "source": [
    "np.random.seed(111)                     #<1>\n",
    "n_krylov_states = 2                     #<2>\n",
    "\n",
    "krylov_circs = [make_random_circuit(2, enable_controls=True) \n",
    "                for i in range(n_krylov_states)]  #<3>\n",
    "\n",
    "krylov_states = [tq.simulate(circ) for circ in krylov_circs]                #<4>"
   ],
   "outputs": [],
   "execution_count": 12
  },
  {
   "cell_type": "markdown",
   "metadata": {},
   "source": [
    "1. Set the random seed for reproducibility\n",
    "2. Number of Krylov states to generate\n",
    "3. Create random quantum circuits, in this way it is very unlikely they will be orthogonal\n",
    "4. Create the wavefunctions from the circuits"
   ]
  },
  {
   "cell_type": "markdown",
   "metadata": {},
   "source": [
    "Then we build an Hamiltonian from these as follows:\n",
    "$$H = -|\\psi\\rangle\\langle\\psi|-|\\phi\\rangle\\langle\\psi|-|\\psi\\rangle\\langle\\phi|-|\\phi\\rangle\\langle\\phi|$$\n",
    "In this way we have an hermitian operator and we are sure that the Krylov space contains the ground state. This is a toy hamiltonian that has nothing to do with the Krylov method itself, it's only needed to check the obtained states are the correct ones."
   ]
  },
  {
   "cell_type": "code",
   "metadata": {
    "ExecuteTime": {
     "end_time": "2024-07-19T13:24:50.374390Z",
     "start_time": "2024-07-19T13:24:50.368180Z"
    }
   },
   "source": [
    "krylov_states_couples = list(it.product(krylov_states, repeat=2))           #<1>\n",
    "\n",
    "                                                                #<2>  \n",
    "H = QubitHamiltonian()                                          #<3>\n",
    "for i, j in krylov_states_couples:                              #<4>\n",
    "    H -= tq.paulis.KetBra(ket = i, bra = j)                     #<4>"
   ],
   "outputs": [],
   "execution_count": 13
  },
  {
   "cell_type": "markdown",
   "metadata": {},
   "source": [
    "1. Generate a list of all posible couples of Krylov states\n",
    "2. Create a Hamiltonian from the obtained wavefunctions\n",
    "3. Initialize an empty QubitHamiltonian object\n",
    "4. For each couple of Krylov states, compute the braket and substract the term from the Hamiltonian"
   ]
  },
  {
   "cell_type": "markdown",
   "metadata": {},
   "source": [
    "At this point we just need to call the `krylov_method` function, providing the Krylov circuits and the hamiltonian. It will build the matrices $\\mathbf{S_{\\alpha\\beta}}$ and $\\mathbf{H_{\\alpha\\beta}}$ and then return the ground energy $E$ and the coefficients $c_\\alpha$:"
   ]
  },
  {
   "cell_type": "code",
   "metadata": {
    "ExecuteTime": {
     "end_time": "2024-07-19T13:24:50.559142Z",
     "start_time": "2024-07-19T13:24:50.374965Z"
    }
   },
   "source": [
    "kry_energies, kry_coefficients_matrix = krylov_method(krylov_circs, H)  #<1>\n",
    "\n",
    "kry_ground_energy = kry_energies[0]                                     #<2>\n",
    "kry_ground_coefficients = kry_coefficients_matrix[:,0]                  #<3>"
   ],
   "outputs": [],
   "execution_count": 14
  },
  {
   "cell_type": "markdown",
   "metadata": {},
   "source": [
    "1. Applying the Krylov method\n",
    "2. Extract the ground state energy\n",
    "3. Extract the coefficients"
   ]
  },
  {
   "cell_type": "markdown",
   "metadata": {},
   "source": [
    "In order to check if the method gives meaningful solutions we can directly diagonalize the hamiltonian $H$:"
   ]
  },
  {
   "cell_type": "code",
   "metadata": {
    "ExecuteTime": {
     "end_time": "2024-07-19T13:24:50.562358Z",
     "start_time": "2024-07-19T13:24:50.560452Z"
    }
   },
   "source": [
    "eigenvalues, eigenvectors = np.linalg.eigh(H.to_matrix())           #<1>"
   ],
   "outputs": [],
   "execution_count": 15
  },
  {
   "cell_type": "markdown",
   "metadata": {},
   "source": [
    "1. Perform exact diagonalization of the Hamiltonian"
   ]
  },
  {
   "cell_type": "markdown",
   "metadata": {},
   "source": [
    "As you can see below the ground energy and the ground states do correspond:"
   ]
  },
  {
   "cell_type": "code",
   "metadata": {
    "ExecuteTime": {
     "end_time": "2024-07-19T13:24:50.564516Z",
     "start_time": "2024-07-19T13:24:50.562983Z"
    }
   },
   "source": [
    "print('Ground State Energy Krylov: {:.4f}'.format(kry_ground_energy))      \n",
    "print('Ground State Energy: {:.4f}'.format( eigenvalues[0]))               "
   ],
   "outputs": [
    {
     "name": "stdout",
     "output_type": "stream",
     "text": [
      "Ground State Energy Krylov: -1.6530\n",
      "Ground State Energy: -1.6530\n"
     ]
    }
   ],
   "execution_count": 16
  },
  {
   "cell_type": "code",
   "metadata": {
    "ExecuteTime": {
     "end_time": "2024-07-19T13:24:50.567050Z",
     "start_time": "2024-07-19T13:24:50.565157Z"
    }
   },
   "source": [
    "ground_state = tq.QubitWaveFunction()                           #<1>\n",
    "\n",
    "for i in range(n_krylov_states):                                #<2>\n",
    "    ground_state += kry_ground_coefficients[i]*krylov_states[i] #<2>\n",
    "\n",
    "print(ground_state)                                             #<3>"
   ],
   "outputs": [
    {
     "name": "stdout",
     "output_type": "stream",
     "text": [
      "+0.7338e^(-0.4020πi)|00> +0.5664i|10> -0.2799|11> +0.2497e^(+0.8983πi)|01> \n"
     ]
    }
   ],
   "execution_count": 17
  },
  {
   "cell_type": "markdown",
   "metadata": {},
   "source": [
    "1. Initialize the ground state\n",
    "2. Construct the ground state wavefunction by adding the scaled Krylov states\n",
    "3. Print the ground state"
   ]
  },
  {
   "cell_type": "code",
   "metadata": {
    "ExecuteTime": {
     "end_time": "2024-07-19T13:24:50.569744Z",
     "start_time": "2024-07-19T13:24:50.567731Z"
    }
   },
   "source": [
    "wfn = tq.QubitWaveFunction.from_array(eigenvectors[:,0])        #<1>\n",
    "#print(eigenvectors[0])\n",
    "print(wfn)  "
   ],
   "outputs": [
    {
     "name": "stdout",
     "output_type": "stream",
     "text": [
      "+0.7338|00> +0.2497e^(-0.6997πi)|01> +0.5664e^(+0.9020πi)|10> +0.2799e^(-0.5980πi)|11> \n"
     ]
    }
   ],
   "execution_count": 18
  },
  {
   "cell_type": "markdown",
   "metadata": {},
   "source": [
    "1. Create a QubitWaveFunction object from the array representing the first eigenvector"
   ]
  },
  {
   "cell_type": "markdown",
   "metadata": {},
   "source": [
    "The obtained ground state seems different at first glance, but the states are actually identical due to equivalence up to a global phase.\n",
    "This depends on the employed simulator that decomposes gates up to a global phase. Using different ones may lead to different global phases, still having the same state.\n",
    "\n",
    "We can easily check that these two are the same state by computing the *fidelity* between the two:"
   ]
  },
  {
   "cell_type": "code",
   "metadata": {
    "ExecuteTime": {
     "end_time": "2024-07-19T13:24:50.571798Z",
     "start_time": "2024-07-19T13:24:50.570217Z"
    }
   },
   "source": [
    "fidelity = abs(wfn.inner(ground_state.normalize()))**2          #<1>\n",
    "print(fidelity)"
   ],
   "outputs": [
    {
     "name": "stdout",
     "output_type": "stream",
     "text": [
      "1.0000000000000004\n"
     ]
    }
   ],
   "execution_count": 19
  },
  {
   "cell_type": "markdown",
   "metadata": {},
   "source": [
    "1. Compute the fidelity between the two states"
   ]
  }
 ],
 "metadata": {
  "interpreter": {
   "hash": "ee5daa585c8ec561a96d5711013c1c24469ecacbf4bca7c4925c7fd376e166ab"
  },
  "kernelspec": {
   "display_name": "Python 3.9.12 ('try_tequila')",
   "language": "python",
   "name": "python3"
  },
  "language_info": {
   "codemirror_mode": {
    "name": "ipython",
    "version": 3
   },
   "file_extension": ".py",
   "mimetype": "text/x-python",
   "name": "python",
   "nbconvert_exporter": "python",
   "pygments_lexer": "ipython3",
   "version": "3.9.19"
  },
  "orig_nbformat": 4
 },
 "nbformat": 4,
 "nbformat_minor": 2
}
