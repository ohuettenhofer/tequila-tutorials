{
 "cells": [
  {
   "cell_type": "markdown",
   "metadata": {},
   "source": [
    "---\n",
    "title: \"Circuit Compiler\"\n",
    "author: \n",
    "    - name: Georgios Tsilimigkounakis\n",
    "    - name: Adapted by Ram Mosco\n",
    "date: \"2024-05-20\"\n",
    "categories: [code]\n",
    "image: \"Circuit_Compiler_preview_photo.png\"\n",
    "image-width: \"1cm\"\n",
    "image-height: \"1cm\"\n",
    "format:\n",
    "    html:\n",
    "        code-fold: false\n",
    "        eval: true\n",
    "jupyter: blogqa\n",
    "code-annotations: hover\n",
    "---\n"
   ]
  },
  {
   "cell_type": "markdown",
   "metadata": {},
   "source": [
    "\n",
    "A short tutorial on Gate Generators and Tequila's compilation procedure\n"
   ]
  },
  {
   "cell_type": "markdown",
   "metadata": {},
   "source": [
    "In this tutorial:  \n",
    "1. we introduce the concept of a *generator* and how it is used in Tequila  \n",
    "2. briefly describe how native compiler in Tequila works  \n"
   ]
  },
  {
   "cell_type": "markdown",
   "metadata": {},
   "source": [
    "Every unitary gate $U$ can be written as:\n",
    "$$ U = e^{-i \\frac{a}{2} G} $$\n",
    "\n",
    "where $G$  is a Hermitian matrix (i.e $G = G^{\\dagger}$) called the *generator* of $U$ and $a$ is an angle \n",
    "\n",
    "Tequila uses above representation with the convention that \n",
    "\n",
    "- $a$  equals `U.parameter` if gate $U$ is parametrized with an angle $a$\n",
    "- or, if the gate $U$ is not parametrized, then $a = \\pi$ holds per default\n",
    "\n",
    "To avoid confusion,  $U$ should be of type `QGateImpl` \n",
    "\n",
    "Usually in Tequila, one has high level access to `QCircuit` data structure"
   ]
  },
  {
   "cell_type": "code",
   "execution_count": 1,
   "metadata": {},
   "outputs": [],
   "source": [
    "### first import all relevant modules\n",
    "\n",
    "from numpy import pi\n",
    "\n",
    "import tequila as tq\n",
    "import tequila.circuit.gates as gates\n",
    "\n",
    "from tequila import QCircuit"
   ]
  },
  {
   "cell_type": "markdown",
   "metadata": {},
   "source": [
    "Let's look at some simple examples for one-qubit gates\n",
    "\n",
    "- Rotation around Z - axis of angle $a$: \n",
    "$\\hspace{0.7em} R_z(a) = e^{-i \\frac{a}{2} Z}$\n",
    "\n",
    "- $a$ -th power of Z: \n",
    "$\\hspace{1.5em} Z = e^{-i \\frac{\\pi}{2} (Z - 1)} \\implies Z^a = e^{-i \\frac{a \\cdot \\pi}{2} (Z - 1)} = e^{i \\frac{a \\cdot \\pi}{2}} \\cdot R_z(a \\cdot \\pi)$"
   ]
  },
  {
   "cell_type": "code",
   "execution_count": 2,
   "metadata": {},
   "outputs": [
    {
     "name": "stdout",
     "output_type": "stream",
     "text": [
      "Gate: Rz | Generator +1.0000Z(0)\n",
      "Gate: Z | Generator +1.0000Z(0)-1.0000\n"
     ]
    }
   ],
   "source": [
    "qc  = QCircuit() #<1>\n",
    "qc += gates.Rz(pi / 2, 0) #<2>\n",
    "qc += gates.Z(0, power=0.5) #<3>\n",
    "\n",
    "# let's see how the data structure looks like\n",
    "for U in qc.gates:  \n",
    "    G = U.generator  \n",
    "    print(f\"Gate: {U.name} | Generator {G}\")  #<4>\n"
   ]
  },
  {
   "cell_type": "markdown",
   "metadata": {},
   "source": [
    "1. create a circuit object \n",
    "2. add a rotation Z gate with an angle of 90 deg. \n",
    "3. add a Z gate with a power of 0.5\n",
    "4. print the gates with their names and generator values "
   ]
  },
  {
   "cell_type": "markdown",
   "metadata": {},
   "source": [
    "Going forward, a controlled - $U$ gate with $k$ qubits as controls is written as:\n",
    "\n",
    "$$ U_c = e^{-i \\frac{a}{2} \\cdot |1 \\rangle \\langle 1 |^{\\otimes k} G} = e^{-i \\frac{a}{2} \\big(\\frac{I - Z}{2}\\big)^{\\otimes k}G} $$\n",
    "\n",
    "We can justify the above expression since if:\n",
    "\n",
    "- any of the control qubits in state $| \\psi \\rangle$ are in $|0 \\rangle$ state, then : \n",
    "\n",
    "$$ |1 \\rangle \\langle 1 |^{\\otimes k} G \\cdot | \\psi \\rangle = 0 \\implies U_c |\\psi \\rangle = |\\psi \\rangle $$\n",
    "\n",
    "- all the control qubits in state $| \\psi \\rangle = |c \\rangle |t \\rangle$ are in $|1 \\rangle$ state: \n",
    "\n",
    "$$ |1 \\rangle \\langle 1 |^{\\otimes k} G \\cdot | \\psi \\rangle = \n",
    "   |1 \\rangle^{\\otimes k} G |t \\rangle \n",
    "   \\implies \n",
    "   U_c |\\psi \\rangle = |1 \\rangle^{\\otimes k} U |t \\rangle \n",
    "$$\n",
    "   \n",
    "   \n",
    "In Tequila:"
   ]
  },
  {
   "cell_type": "code",
   "execution_count": 3,
   "metadata": {},
   "outputs": [
    {
     "name": "stdout",
     "output_type": "stream",
     "text": [
      "\n",
      "Gate:  Rx \n",
      " | Is controlled?  True \n",
      " | Generator: +1.0000X(1) \n",
      " | Full Generator:  +0.5000X(1)-0.5000Z(0)X(1)\n"
     ]
    }
   ],
   "source": [
    "qc = gates.Rx(pi / 2, control=0, target=1) #<1>\n",
    "\n",
    "for U in qc.gates: \n",
    "    G  = U.generator #<2>\n",
    "    Gc = U.make_generator(include_controls=True) #<3>\n",
    "    \n",
    "    print('\\nGate: ', U.name, #<4>\n",
    "          '\\n | Is controlled? ', U.is_controlled(), \n",
    "          '\\n | Generator:', G, \n",
    "          '\\n | Full Generator: ', Gc)"
   ]
  },
  {
   "cell_type": "markdown",
   "metadata": {},
   "source": [
    "1. add a conrtolled X rotation of 90 deg. with. Control qubit is the first and target the second \n",
    "2. collect generators parameters of each generator in circuit qc \n",
    "3. collect parameters of full generators in qc \n",
    "4. output the parameters of each gate in circuit qc "
   ]
  },
  {
   "cell_type": "markdown",
   "metadata": {},
   "source": [
    "# Gates decomposition\n",
    "In this section we explain the gates decomposition used by Tequila's compiler.\n",
    "\n",
    "As a start, for backends that do not natively support power gates (eg. `qiskit`), we decompose them as an equivalent up to a global phase sequence of rotations (see above for $Z^a$).\n",
    "\n",
    "A special case is the Hadamard gate:\n",
    "\n",
    "$\\hspace{0.5em}\n",
    "H = R_y(\\frac{\\pi}{4}) \\cdot Z \\cdot R_y(-\\frac{\\pi}{4}) \\implies \n",
    "H^a =  e^{i \\frac{a \\cdot \\pi}{2}} \\cdot R_y(\\frac{\\pi}{4}) \\cdot R_z(a \\cdot \\pi) \\cdot R_y(-\\frac{\\pi}{4})$"
   ]
  },
  {
   "cell_type": "code",
   "execution_count": 4,
   "metadata": {},
   "outputs": [],
   "source": [
    "qc = gates.H(target=0, power=0.5)  #<1>\n",
    "\n",
    "compiled = tq.compile(qc, backend='qiskit')  #<2>\n",
    "\n",
    "\n"
   ]
  },
  {
   "cell_type": "markdown",
   "metadata": {},
   "source": [
    "1. create a squared hadamard gate with a target qubit \n",
    "2. compile the circuit `qc`, containing only one hadamard gate, - this will decompose the gate as shown above to rotations and paulis "
   ]
  },
  {
   "cell_type": "markdown",
   "metadata": {},
   "source": [
    "\n",
    "![](gate_decomp_1.png){width=30%}\n",
    "\n",
    "Printing the object `compiled.circuit` should yield a circuit like the one above. \n",
    "\n",
    "Note that as a part of the circuit compilation process Tequila will decompose the $H$ gate a combination of parametrized rotation gates $R_x, R_y, R_z$.\n",
    "\n",
    "A print will show the decomposed version (and not a $H$ gate)"
   ]
  },
  {
   "cell_type": "markdown",
   "metadata": {},
   "source": [
    "Remember quantum circuits are written in reversed order than matrix multiplication.\n",
    "Also notice that the global phase is dropped in the decomposition."
   ]
  },
  {
   "cell_type": "markdown",
   "metadata": {},
   "source": [
    "Regarding (multi) controlled gates, Tequila decompose everything in terms of $CNOT$ and single qubit - rotations if a backend does not support the corresponding operation. \n",
    "\n",
    "Let's start first with a controlled - $Z$ rotation with $k$ qubits acting as controls. All other cases will be reduced to it.\n",
    "\n",
    "$$ CRz_k(a) = e^{-i \\frac{a}{2} \\big(\\frac{I - Z}{2}\\big)^{\\otimes k} Z} = \n",
    "\\prod_{m = 0}^{k} \\prod_{\\sigma \\in C_{k, m}} e^{-i \\frac{(-1)^{m} \\cdot a/2^k}{2} Z_{\\sigma(1)} Z_{\\sigma(2)} .. Z_{\\sigma(m)} Z} $$\n",
    "\n",
    "The idea is to sort the terms in $\\big(I - Z\\big)^{\\otimes k}$ expansion in Gray code order. In this order, when we synthesize the individual Exponential-Pauli gates, consecutive $CNOT$ gates meet and cancel out.\n",
    "\n",
    "For example:\n",
    "\n",
    "$$ CRz_2(a) = e^{-i \\frac{a}{2} \\big(\\frac{I - Z}{2}\\big)^{\\otimes 2}} = \n",
    "e^{-i \\frac{a/4}{2} I_0 I_1 Z} \\cdot \n",
    "e^{i \\frac{a/4}{2} Z_0 I_1 Z}  \\cdot\n",
    "e^{-i \\frac{a/4}{2} Z_0 Z_1 Z} \\cdot\n",
    "e^{i \\frac{a/4}{2} I_0 Z_1 Z} $$"
   ]
  },
  {
   "cell_type": "code",
   "execution_count": 5,
   "metadata": {},
   "outputs": [
    {
     "name": "stdout",
     "output_type": "stream",
     "text": [
      "                                                                       \n",
      "q_0: ─────────────■────────────────────────────────■───────────────────\n",
      "                  │                                │                   \n",
      "q_1: ─────────────┼────────────────■───────────────┼────────────────■──\n",
      "     ┌─────────┐┌─┴─┐┌──────────┐┌─┴─┐┌─────────┐┌─┴─┐┌──────────┐┌─┴─┐\n",
      "q_2: ┤ Rz(π/4) ├┤ X ├┤ Rz(-π/4) ├┤ X ├┤ Rz(π/4) ├┤ X ├┤ Rz(-π/4) ├┤ X ├\n",
      "     └─────────┘└───┘└──────────┘└───┘└─────────┘└───┘└──────────┘└───┘\n",
      "c: 3/══════════════════════════════════════════════════════════════════\n",
      "                                                                       \n"
     ]
    }
   ],
   "source": [
    "qc = gates.Rz(pi, control=[0, 1], target=2) #<1>\n",
    "compiled = tq.compile(qc, backend='qiskit') #<2>\n",
    "\n",
    "print(compiled.circuit) #<3>"
   ]
  },
  {
   "cell_type": "markdown",
   "metadata": {},
   "source": [
    "1. create a parametrized rotation $Z$ gate with two controls and an angle of 180 deg.\n",
    "2. compile the circuit - this will decompose it to a sequence of parametrized rotation $Z$ gates and $CNOT$ gates\n",
    "3. display the compiled circuit "
   ]
  },
  {
   "cell_type": "markdown",
   "metadata": {},
   "source": [
    "![](circuit_2.png){width=80%}\n",
    "\n",
    "\n",
    "you can print the object `compiled.circuit` with a normal print statement in your IDE like shown in the code snippet above and expect the same circuit like the one in the graphic\n",
    "\n",
    "\n",
    "Note that a print will also denote the angular parametrization of the rotations gates in each one of them. Moreover the $CNOT$ gates are displayed as $X$ gates, which is physically the same. \n",
    "\n",
    "That was a lot at once. \n",
    "\n",
    "Let's see how the decomposition of $e^{-i \\frac{a/4}{2} Z_0 Z_1 Z}$ looks like."
   ]
  },
  {
   "cell_type": "code",
   "execution_count": 6,
   "metadata": {},
   "outputs": [],
   "source": [
    "qc = gates.ExpPauli(paulistring='Z(0)Z(1)Z(2)', angle=pi/4) #<1>\n",
    "\n",
    "compiled = tq.compile(qc, backend='qiskit') #<2>\n"
   ]
  },
  {
   "cell_type": "markdown",
   "metadata": {},
   "source": [
    "1. create a gate based of a given Pauli-String of $Z$ gates parameterized with an angle of 45 deg.\n",
    "2. compile this gate - this will decompose it to a combination of $CNOT$ gates and rotations "
   ]
  },
  {
   "cell_type": "markdown",
   "metadata": {},
   "source": [
    "![](circuit_3.png){width=45%}\n",
    "\n",
    "Printing `compiled.circuit`will yield a circuit like the one above. \n",
    "\n",
    "The decomposition of other terms look similar. You can write them down for yourself as a verification and see how the $CNOT$ gates cancel out"
   ]
  },
  {
   "cell_type": "markdown",
   "metadata": {},
   "source": [
    "Controlled - Phase gates:\n",
    "\n",
    "$$ CP_k(a) = e^{i a \\big(\\frac{I - Z}{2}\\big)^{\\otimes k} \\frac{I - Z}{2}} =  \n",
    "e^{i \\frac{a}{2} \\big(\\frac{I - Z}{2}\\big)^{\\otimes k}} \\cdot e^{-i \\frac{a}{2} \\big(\\frac{I - Z}{2}\\big)^{\\otimes k} Z} = \n",
    "CP_{k-1}(\\frac{a}{2}) \\cdot CRz_k(a)$$\n",
    "\n",
    "The above equality provides a recurrent way to decompose $CP_k(a)$ with base case $CP_0(a) = Phase(a) = e^{i\\frac{a}{2}} R_z(a)$"
   ]
  },
  {
   "cell_type": "code",
   "execution_count": 7,
   "metadata": {},
   "outputs": [],
   "source": [
    "qc = gates.Phase(phase=pi, control=0, target=1) #<1>\n",
    "\n",
    "compiled = tq.compile(qc, backend='qiskit') #<2>"
   ]
  },
  {
   "cell_type": "markdown",
   "metadata": {},
   "source": [
    "1. create a controlled gate in qubit 1. with control qubit in 0. and a phase of 180 deg.\n",
    "2. compile this gate - thus decompose it to rotations and $CNOT$s "
   ]
  },
  {
   "cell_type": "markdown",
   "metadata": {},
   "source": []
  },
  {
   "cell_type": "markdown",
   "metadata": {},
   "source": [
    "![](circuit_4.png){width=45%}\n",
    "\n",
    "Printing `compiled.circuit` will output a circuit like the one above \n",
    "\n",
    "Controlled power gates are equivalent to controlled - phase gates after a basis change. Specifically:\n",
    "\n",
    "- $X = H Z H \\implies CX_k^a = H \\cdot CP_k(a \\cdot \\pi) \\cdot H$\n",
    "- $Y = R_x(- \\frac{\\pi}{2}) \\cdot Z \\cdot R_x(\\frac{\\pi}{2})  \\implies CY_k^a = R_x(- \\frac{\\pi}{2}) \\cdot CP_k(a \\cdot \\pi) \\cdot R_x(\\frac{\\pi}{2})$"
   ]
  },
  {
   "cell_type": "markdown",
   "metadata": {},
   "source": [
    "It is worth mentioning here that Tequila decomposes gates only when it is needed, i.e either a backend does not support a gate type or a translation between Tequila and backend object is not supported.\n",
    "\n",
    "For example, a Toffoli gate in `cirq` backend will not be decomposed further:"
   ]
  },
  {
   "cell_type": "code",
   "execution_count": 8,
   "metadata": {},
   "outputs": [],
   "source": [
    "qc = gates.Toffoli(0, 1, 2) #<1>\n",
    "\n",
    "compiled = tq.compile(qc, backend='cirq') #<2>\n"
   ]
  },
  {
   "cell_type": "markdown",
   "metadata": {},
   "source": [
    "1. create a Toffoli gate with controls in qubits 1 and 2 and target in qubit 2\n",
    "2. compile this gate - since this gate is recognized by the backend it won't get decomposed to rotations and $CNOT$ gates"
   ]
  },
  {
   "cell_type": "markdown",
   "metadata": {},
   "source": [
    "![](circuit_5.png){width=18%}\n",
    "\n",
    "Printing `compiled.circuit` should result in the above circuit"
   ]
  },
  {
   "cell_type": "markdown",
   "metadata": {},
   "source": [
    "But with `qiskit` we have to decompose it in terms of one and two qubit gates."
   ]
  },
  {
   "cell_type": "code",
   "execution_count": 9,
   "metadata": {},
   "outputs": [],
   "source": [
    "qc = gates.Toffoli(0, 1, 2) #<1>\n",
    "\n",
    "compiled = tq.compile(qc, backend='qiskit') #<2>\n",
    "\n"
   ]
  },
  {
   "cell_type": "markdown",
   "metadata": {},
   "source": [
    "1. create the same Toffoli gate as before \n",
    "2. compile the gate with a different backend \"qiskit\". Since this backend doesn't recognize this gate it will decompose it to smaller gates \n"
   ]
  },
  {
   "cell_type": "markdown",
   "metadata": {},
   "source": [
    "![](circuit_6.png){width=70%}\n",
    "\n",
    "\n",
    "![](circuit_7.png){width=30%}\n",
    "\n",
    "Once again printing the `compiled.circuit`would yield the above circuits "
   ]
  }
 ],
 "metadata": {
  "kernelspec": {
   "display_name": "BlogQA",
   "language": "python",
   "name": "python3"
  },
  "language_info": {
   "codemirror_mode": {
    "name": "ipython",
    "version": 3
   },
   "file_extension": ".py",
   "mimetype": "text/x-python",
   "name": "python",
   "nbconvert_exporter": "python",
   "pygments_lexer": "ipython3",
   "version": "3.9.19"
  }
 },
 "nbformat": 4,
 "nbformat_minor": 2
}
