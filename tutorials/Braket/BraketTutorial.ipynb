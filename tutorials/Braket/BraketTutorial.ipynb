{
 "cells": [
  {
   "cell_type": "markdown",
   "metadata": {},
   "source": [
    "---\n",
    "title: \"Braket Module\"\n",
    "author: \n",
    "    - name: Francesco Scala \n",
    "    - name: Adapted by Ram Mosco\n",
    "date: \"2024-06-21\"\n",
    "categories: [code]\n",
    "image: \"braket_cover.png\"\n",
    "image-width: \"1cm\"\n",
    "image-height: \"1cm\"\n",
    "format:\n",
    "    html:\n",
    "        code-fold: false\n",
    "        eval: true\n",
    "jupyter: blogqa\n",
    "code-annotations: hover\n",
    "---"
   ]
  },
  {
   "cell_type": "markdown",
   "metadata": {},
   "source": [
    "This is a tutorial to get to know the new Tequila's function: braket. \n",
    "\n",
    "With this new function you will be able to easily compute:\n",
    "\n",
    "1. self overlaps\n",
    "2. overlaps between two different states\n",
    "3. the expectation value of an operator\n",
    "4. the transition element of an operator"
   ]
  },
  {
   "cell_type": "markdown",
   "metadata": {},
   "source": [
    "So, let's import Tequila (and some of its modules) and see how this function works."
   ]
  },
  {
   "cell_type": "code",
   "execution_count": 1,
   "metadata": {},
   "outputs": [],
   "source": [
    "#tequila importations\n",
    "import tequila as tq\n",
    "from tequila.circuit.gates import H, X, Rx, CX\n",
    "from tequila.hamiltonian.qubit_hamiltonian import QubitHamiltonian\n",
    "\n",
    "#extra importations\n",
    "import numpy as np\n",
    "import matplotlib.pyplot as plt\n",
    "%matplotlib inline"
   ]
  },
  {
   "cell_type": "markdown",
   "metadata": {},
   "source": [
    "# Basic usage\n",
    "\n",
    "## 1. Self overlap\n",
    "\n",
    "Let's begin from the simplest (and maybe trivial) possible application of the `braket` function: the computation of the self overlap of a quantum state. One can prepare an arbitrary circuit, corresponding to the state $|\\psi\\rangle$ and then calculate the self overlap $$\\langle \\psi|\\psi\\rangle.$$ "
   ]
  },
  {
   "cell_type": "markdown",
   "metadata": {},
   "source": [
    "We can prepare for example a Bell state of two qubits:\n",
    "\n",
    "Note you can also run `tq.draw(bell, backend='qiskit')` for drawing the circuit (optional). It would result in a circuit like the one below "
   ]
  },
  {
   "cell_type": "code",
   "execution_count": 2,
   "metadata": {},
   "outputs": [],
   "source": [
    "bell = tq.QCircuit() #<1>\n",
    "bell += H(0) #<2>\n",
    "bell += CX(0,1) #<3>\n"
   ]
  },
  {
   "cell_type": "markdown",
   "metadata": {},
   "source": [
    "1. creates an empty circuit object with no gates \n",
    "2. add a hadamard gate to qubit 0 \n",
    "3. add a $CNOT$ with control in qubit 1 and target in 1 "
   ]
  },
  {
   "cell_type": "markdown",
   "metadata": {},
   "source": [
    "\n",
    "![](B1.png){width=30%}\n",
    "\n",
    "\n",
    "Then, we can simply call the `braket` function passing as unique argument our quantum circuit, this can also be specified as `ket`:"
   ]
  },
  {
   "cell_type": "code",
   "execution_count": 3,
   "metadata": {},
   "outputs": [],
   "source": [
    "self_overlap_real, self_overlap_im = tq.braket(ket=bell) #<1>\n",
    "\n",
    "self_overlap = self_overlap_real + 1.0j*self_overlap_im #<2>"
   ]
  },
  {
   "cell_type": "markdown",
   "metadata": {},
   "source": [
    "1. get the real and the imaginary part of the state \n",
    "2. join the save and imaginary part of the overlap. `self_overlap` is not a complex number "
   ]
  },
  {
   "cell_type": "markdown",
   "metadata": {},
   "source": [
    "As we have seen the braket function always return two objects, one for the real part and one for the imaginary one. These are `tq.Objecitve` and need to be simulated in order to obtain a numeric value.\n",
    "\n",
    "\n",
    "Due to the laws of quantum mechanics the overlap of a state with itself, namely the self overlap, must always be equal to 1, namely $$\\langle \\psi|\\psi\\rangle=1.$$"
   ]
  },
  {
   "cell_type": "code",
   "execution_count": 4,
   "metadata": {},
   "outputs": [
    {
     "name": "stderr",
     "output_type": "stream",
     "text": [
      "/opt/anaconda3/envs/BlogQA/lib/python3.9/site-packages/tequila/objective/objective.py:591: ComplexWarning: Casting complex values to real discards the imaginary part\n",
      "  result = onp.asarray(self.transformation(*ev_array), dtype=float)\n"
     ]
    }
   ],
   "source": [
    "self_overlap_value = tq.simulate(self_overlap) #<1>\n",
    "assert self_overlap_value == 1 #<2>"
   ]
  },
  {
   "cell_type": "markdown",
   "metadata": {},
   "source": [
    "1. compute the self overlap of the state\n",
    "2. if the self overlap is not equal to $1$, this should throw an exception "
   ]
  },
  {
   "cell_type": "markdown",
   "metadata": {},
   "source": [
    "In this particular case Tequila is aware that the self overlap is always 1, so no circuit needs to be executed. This can be checked by printing the `self_overlap` Objective:\n",
    "\n",
    "Note that this object consists of further attributes rather than only the mere value "
   ]
  },
  {
   "cell_type": "code",
   "execution_count": 5,
   "metadata": {},
   "outputs": [
    {
     "name": "stdout",
     "output_type": "stream",
     "text": [
      "Objective with 0 unique expectation values\n",
      "total measurements = 0\n",
      "variables          = []\n",
      "types              = []\n"
     ]
    }
   ],
   "source": [
    "print(self_overlap) #<1>"
   ]
  },
  {
   "cell_type": "markdown",
   "metadata": {},
   "source": [
    "1. printing the overlap shows all of its object attributes "
   ]
  },
  {
   "cell_type": "markdown",
   "metadata": {},
   "source": [
    "## 2. Overlap between two different states\n",
    "\n",
    "The second step will be to compute the overlap between different states $$\\langle\\psi _2|\\psi _1\\rangle.$$ Even in this case we can exploit the `braket` function.\n",
    "\n",
    "Let's prepare two orthogonal states. In this case the overlap must be equal to 0:\n"
   ]
  },
  {
   "cell_type": "code",
   "execution_count": 6,
   "metadata": {},
   "outputs": [],
   "source": [
    "U0 = X(0) # state |10> #<1>\n",
    "U1 = H(0)+CX(0,1) # Bell state 1/sqrt(2)*(|00>+|11>) #<2>\n"
   ]
  },
  {
   "cell_type": "markdown",
   "metadata": {},
   "source": [
    "1. this circuit will perpare the two-qubit state |10> since we assume two input-qubits in state |0> and a $X$ (NOT) is applied to the first one\n",
    "2. also here we assume an input of |00> and send it through the circuit that generated the 4 bell-states"
   ]
  },
  {
   "cell_type": "markdown",
   "metadata": {},
   "source": [
    "Now, we can call the `braket` function passing as arguments our quantum circuits, specifying which will be the `ket` and which the `bra`.\n",
    "Otherwise the first will be automatically selected as `ket` and second as `bra`:"
   ]
  },
  {
   "cell_type": "code",
   "execution_count": 7,
   "metadata": {},
   "outputs": [
    {
     "data": {
      "text/plain": [
       "0.0"
      ]
     },
     "execution_count": 7,
     "metadata": {},
     "output_type": "execute_result"
    }
   ],
   "source": [
    "br_objective_real, br_objective_im = tq.braket(ket=U0, bra=U1) #<1>\n",
    "br_overlap = br_objective_real + 1.0j*br_objective_im #<2>\n",
    "br_overlap_value = tq.simulate(br_overlap) #<3>\n",
    "\n",
    "br_overlap_value #<4>"
   ]
  },
  {
   "cell_type": "markdown",
   "metadata": {},
   "source": [
    "1. specify input states for writing them in the braket notation\n",
    "2. joining real and imaginary part based on the states produced by the circuits `U0` and `U1`\n",
    "3. simulates the `tq.Objective` object to obtain a numeric values \n",
    "4. prints the overlap, this one should be equal to $0$"
   ]
  },
  {
   "cell_type": "markdown",
   "metadata": {},
   "source": [
    "We can also define a non-orthogonal state with respect to the previous prepared Bell state. This can be obtained for example by preparing a Bell state followed by a rotation around X-axis. \n",
    "\n",
    "One can then check that changing the angle value will result in changing the overlap between the two states:"
   ]
  },
  {
   "cell_type": "code",
   "execution_count": 8,
   "metadata": {},
   "outputs": [
    {
     "data": {
      "text/plain": [
       "Text(0, 0.5, 'Overlap')"
      ]
     },
     "execution_count": 8,
     "metadata": {},
     "output_type": "execute_result"
    },
    {
     "data": {
      "image/png": "[encoded data removed]",
      "text/plain": [
       "<Figure size 800x500 with 1 Axes>"
      ]
     },
     "metadata": {},
     "output_type": "display_data"
    }
   ],
   "source": [
    "angle = tq.Variable(\"angle\") #<1>\n",
    "U2 = U1 + Rx(angle*np.pi, 1) #<2>\n",
    "\n",
    "br_objective_real, br_objective_im = tq.braket(ket=U1, bra=U2) #<3>\n",
    "br_overlap = br_objective_real + 1.0j*br_objective_im #<4>\n",
    "S = tq.compile(br_overlap) #<5>\n",
    "\n",
    "overlaps = []\n",
    "for value in np.arange(0,4.1, 0.1): #<6>\n",
    "# set the value of the angle we want to simulate\n",
    "    variables = {\"angle\" : value} #<7>\n",
    "    # let's simulate the Objective\n",
    "    br_overlap_value = S(variables=variables) #<8>\n",
    "    overlaps.append(round(br_overlap_value,3)) #<9>\n",
    "\n",
    "# plotting the trend \n",
    "fig = plt.figure(figsize=(8,5)) #<10>\n",
    "\n",
    "plt.plot(np.arange(0,4.1, 0.1), overlaps, marker = 'o')\n",
    "plt.xlabel(r'Angle[Units of $\\pi$]')\n",
    "plt.ylabel('Overlap')"
   ]
  },
  {
   "cell_type": "markdown",
   "metadata": {},
   "source": [
    "1. declare a variable of for a parametrized angle \n",
    "2. Bell state followed by a rotation around X-axis\n",
    "3. fetch once again the real and imaginary components after writing the input states in braket form\n",
    "4. prepare real and imaginary part for overlap computation\n",
    "5. translate to backend - compile the state with an arbitrary parametrized angle\n",
    "6. generates values from the intervall $[0,4.1]$ with steps of $0.1$ for simulating multiple angles\n",
    "7. associate angle with generated value from range above\n",
    "8. simulate the `tq.Objective` object ad get the computed overlap\n",
    "9. append the achieved value to a list of overlaps, since we compute multiple overlaps for multiple angles \n",
    "10. display the resulted numerical values of the overlaps as a graph \n",
    "\n"
   ]
  },
  {
   "cell_type": "markdown",
   "metadata": {},
   "source": [
    "The resulting graphic depicts the trend of the overlaps for the given states above and angles within the interval $[0, 4.1]$ with steps of $0.1$ between interval begin and interval end.\n",
    "\n",
    "## 3. Expectation value of an Hamiltonian\n",
    "\n",
    "At this stage, we can see how to use the `braket` function to calculate the expectation value of an Hamiltonian $H$ with respect to a given state $|\\psi\\rangle$: $$\\langle\\psi|H|\\psi\\rangle.$$"
   ]
  },
  {
   "cell_type": "code",
   "execution_count": 9,
   "metadata": {},
   "outputs": [],
   "source": [
    "psi = H(0)+CX(0,1) # Bell state 1/sqrt(2)*(|00>+|11>) #<1>\n",
    "\n",
    "#Hamiltonian definition\n",
    "operator = QubitHamiltonian.from_string(\"-1.0*X(0)X(1)\") #<2>"
   ]
  },
  {
   "cell_type": "markdown",
   "metadata": {},
   "source": [
    "1. as before define the first bell state with the circuit generating the bell-basis and an input of |00>\n",
    "2. define an hamiltonian - this one is a sequence of Pauli-$X$ matrices acting on the second and the first qubits respectivly and then a scale factor of $-1$\n"
   ]
  },
  {
   "cell_type": "markdown",
   "metadata": {},
   "source": [
    "Now, one needs to pass to the `braket` function as `ket` argument our state and as `operator` argument the Hamiltonian.\n",
    "\n",
    "As already seen before, always keep in mind that the `braket` function returns two Objecitves that need to be compiled afterwards. \n",
    "\n",
    "With previous defined state and Hamiltonian we need to obtain an expectation value equal to $-1$.\n",
    "\n",
    "**Note**: now we utilize the `braket` function for computing an *expectation value* and not an *overlap* between two states as we did before, but since we provide the function this time with an *hamiltonian = hermitian operator* and a state instead of two states, the expectation value will be computed and not the overlap - no special changes needed."
   ]
  },
  {
   "cell_type": "code",
   "execution_count": 10,
   "metadata": {},
   "outputs": [
    {
     "data": {
      "text/plain": [
       "-0.9999999999999998"
      ]
     },
     "execution_count": 10,
     "metadata": {},
     "output_type": "execute_result"
    }
   ],
   "source": [
    "br_exp_value_real, br_exp_value_im = tq.braket(ket=psi, operator=operator) #<1>\n",
    "br_exp_value_tmp = br_exp_value_real + 1.0j*br_exp_value_im #<2>\n",
    "br_exp_value = tq.simulate(br_exp_value_tmp) #<3>\n",
    "\n",
    "br_exp_value #<4>"
   ]
  },
  {
   "cell_type": "markdown",
   "metadata": {},
   "source": [
    "1. applying the braket function on the bell-state and the hamiltonian, defining the hamiltonian as an `operator` - important\n",
    "2. joining real and imaginary part for computation\n",
    "3. simulate the expectation value \n",
    "4. show the expectatino value, should be equal to $1$"
   ]
  },
  {
   "cell_type": "markdown",
   "metadata": {},
   "source": [
    "Tequila is aware that an `ExpectationValue` is always real, so no circuit needs to be executed for the imaginary part. One can see this by printing `br_exp_value_im`:"
   ]
  },
  {
   "cell_type": "code",
   "execution_count": 11,
   "metadata": {},
   "outputs": [
    {
     "name": "stdout",
     "output_type": "stream",
     "text": [
      "Objective with 0 unique expectation values\n",
      "total measurements = 0\n",
      "variables          = []\n",
      "types              = []\n"
     ]
    }
   ],
   "source": [
    "print(br_exp_value_im)"
   ]
  },
  {
   "cell_type": "markdown",
   "metadata": {},
   "source": [
    "## 4. Transition element of an Hamiltonian\n",
    "\n",
    "As last application, the `braket` function can be used to calculate transition elements of an operator $H$ with respect to two different states $|\\alpha\\rangle, \\ |\\beta\\rangle$: $$\\langle\\beta|H|\\alpha\\rangle.$$\n",
    "\n",
    "In order to see how things can change, we can proceed similarly to section 2 and vary the angle of a rotation:  "
   ]
  },
  {
   "cell_type": "code",
   "execution_count": 12,
   "metadata": {},
   "outputs": [],
   "source": [
    "#states definition\n",
    "alpha = H(0)+CX(0,1) # Bell state 1/sqrt(2)*(|00>+|11>) #<1>\n",
    "angle = tq.Variable(\"angle\") #<2>\n",
    "beta = alpha + Rx(angle*np.pi, 1) # Bell state followed by a rotation around X-axis #<3>\n",
    "\n",
    "#Hamiltonian definition\n",
    "operator = QubitHamiltonian(\"-1.0*X(0)X(1)\") #<4>\n",
    "\n",
    "br_trans_real, br_trans_im = tq.braket(ket=alpha, bra=beta, operator=operator) #<5>\n",
    "br_trans_el = br_trans_real + 1.0j*br_trans_im  #<6>\n",
    "H_ab = tq.compile(br_trans_el) #<7>\n",
    "\n",
    "transitions = []    \n",
    "for value in np.arange(0,4.1, 0.1): #<8>\n",
    "    variables = {\"angle\" : value}  #<9>\n",
    "    br_trans_value = H_ab(variables=variables) #<10>\n",
    "    transitions.append(round(br_trans_value,3)) #<11>"
   ]
  },
  {
   "cell_type": "markdown",
   "metadata": {},
   "source": [
    "1. create the bell state the same way as before\n",
    "2. define a general angle for later computations as in the last example\n",
    "3. add a rotation after the bell state\n",
    "4. define the hamiltonian the same way as before\n",
    "5. apply `braket` function, specify the `ket` and the `bra` as the bell state and the bell state followed by the $X$ rotation respectively and get the real and imaginary part \n",
    "6. use the real and imaginary part for creating a complex number \n",
    "7. compile this complex number by translating it to the backend\n",
    "8. use the same interval as a range for angle generation as before and the same step size\n",
    "9. set the of the angle we want to simulate\n",
    "10. simulate the `tq.Objective` to get the computed value\n",
    "11. store these values rounded by 3 digits after the comma into a list of transitions for later plot\n"
   ]
  },
  {
   "cell_type": "code",
   "execution_count": 13,
   "metadata": {},
   "outputs": [
    {
     "data": {
      "text/plain": [
       "Text(0, 0.5, 'Transitions')"
      ]
     },
     "execution_count": 13,
     "metadata": {},
     "output_type": "execute_result"
    },
    {
     "data": {
      "image/png": "[encoded data removed]",
      "text/plain": [
       "<Figure size 800x500 with 1 Axes>"
      ]
     },
     "metadata": {},
     "output_type": "display_data"
    }
   ],
   "source": [
    "#plotting the trend\n",
    "fig = plt.figure(figsize=(8,5)) \n",
    "plt.plot(np.arange(0,4.1, 0.1), transitions, marker = 'o')\n",
    "plt.xlabel(r'Angle[$\\pi$]')\n",
    "plt.ylabel('Transitions')"
   ]
  },
  {
   "cell_type": "markdown",
   "metadata": {},
   "source": [
    "Even in this particular case the imaginary part is 0 (as for an `ExpectationValue`), but in this case this happens because the wave functions are real. The difference can be noticed again by printing `br_trans_im` where in this case there is one circuit to be executed:"
   ]
  },
  {
   "cell_type": "code",
   "execution_count": 14,
   "metadata": {},
   "outputs": [
    {
     "name": "stdout",
     "output_type": "stream",
     "text": [
      "Objective with 1 unique expectation values\n",
      "total measurements = 1\n",
      "variables          = [angle]\n",
      "types              = not compiled\n"
     ]
    }
   ],
   "source": [
    "print(br_trans_im)"
   ]
  },
  {
   "cell_type": "markdown",
   "metadata": {},
   "source": [
    "In the end, we can address one small example in which the imaginary part is not 0. \n",
    "We have:\n",
    "$$|\\psi_0\\rangle=R_x(a)\\rvert  0 \\rangle = \\cos(a/2) \\rvert 0 \\rangle - i\\sin(a/2)\\rvert 1\\rangle$$\n",
    "$$|\\psi_1\\rangle=R_y(b)\\rvert  0 \\rangle = \\cos(b/2) \\rvert 0 \\rangle + \\sin(b/2)\\rvert 1\\rangle$$ \n",
    "\n",
    "and so the imaginary part of the transition amplitude comes down to \n",
    "$$\\text{Im}(\\langle\\psi_1|Z|\\psi_0\\rangle ) = -\\sin(a/2)\\sin(b/2).$$"
   ]
  },
  {
   "cell_type": "code",
   "execution_count": 15,
   "metadata": {},
   "outputs": [],
   "source": [
    "#states definition\n",
    "a = tq.Variable(\"a\") #<1>\n",
    "b = 1 \n",
    "\n",
    "U0 = tq.gates.Rx(a*np.pi,0) #<2>\n",
    "U1 = tq.gates.Ry(b*np.pi,0) #<3>\n",
    "\n",
    "#Hamiltonian definition\n",
    "operator = QubitHamiltonian(\"1.0*Z(0)\") #<4>\n",
    "\n",
    "br_trans_real, br_trans_im = tq.braket(ket=U0, bra=U1, operator=operator) #<5>\n",
    "\n",
    "H_i = tq.compile(br_trans_im) #  #<6>\n",
    "\n",
    "transitions = []\n",
    "for a in np.arange(0,4.1, 0.1): #<7>\n",
    "    variables = {\"a\" : a} #<8>\n",
    "    br_trans_value = H_i(variables=variables) #<9>\n",
    "    transitions.append(round(br_trans_value,3)) #<10>"
   ]
  },
  {
   "cell_type": "markdown",
   "metadata": {},
   "source": [
    "1. declare a variable of a general angle $a$\n",
    "2. declare a rotation around $X$ with the angle $a\\pi$\n",
    "3. rotation around $Y$ axis with a fixed angle of $\\pi$\n",
    "4. hamiltonian with a paulii $Z$ gate on the first qubit\n",
    "5. specify ket, bra and operator and fetch the imaginary and real part \n",
    "6. transalte to backend and get the operator \n",
    "7. same range and step size as before\n",
    "8. set the angle values we want to simulate\n",
    "9. simulate the `tq.Objective` to get the computed value \n",
    "10. store the computed values in a list for plotting"
   ]
  },
  {
   "cell_type": "code",
   "execution_count": 16,
   "metadata": {},
   "outputs": [
    {
     "data": {
      "text/plain": [
       "Text(0, 0.5, 'Transitions')"
      ]
     },
     "execution_count": 16,
     "metadata": {},
     "output_type": "execute_result"
    },
    {
     "data": {
      "image/png": "[encoded data removed]",
      "text/plain": [
       "<Figure size 800x500 with 1 Axes>"
      ]
     },
     "metadata": {},
     "output_type": "display_data"
    }
   ],
   "source": [
    "#plotting the trend\n",
    "fig = plt.figure(figsize=(8,5))\n",
    "plt.plot(np.arange(0,4.1, 0.1), transitions, marker = 'o')\n",
    "plt.xlabel(r'Angle a [$\\pi$]')\n",
    "plt.ylabel('Transitions')"
   ]
  },
  {
   "cell_type": "markdown",
   "metadata": {},
   "source": [
    "# Detailed explanation of internal `braket` structure\n",
    "\n",
    "Let's give some insight about the underlying structure of `braket`.\n",
    "This function in general just calls other functions to do all the different tasks one may need.\n",
    "\n",
    "More in detail, the function acts as follows:\n",
    "\n",
    "## Self Overlap \n",
    "- If only ket is passed, `braket` directly returns the real and imaginary part of the `self-overlap` as `Objective()`. \n",
    "- This is required since one may combine the different `braket` modalities and this will require the compilation of an `Objective()`.\n",
    "\n",
    "## Expectation Value \n",
    "- If ket and operator are passed, `braket` returns the `ExpectationValue` of the operator for the given state.\n",
    "\n",
    "## General Overlap \n",
    "- If ket and bra are passed, `braket` returns the overlap between the two states. This is done by calling a new Tequila's function called `make_overlap`. \n",
    "Further below this section we describe also how this function works.\n",
    "\n",
    "## Transition Element\n",
    "- If ket, bra and operator are passed, `braket` returns the transition element of the operator by calling another new Tequila's function called `make_transition`. Even in this case we provide a description of the internal structure."
   ]
  },
  {
   "cell_type": "markdown",
   "metadata": {},
   "source": [
    "# Detailed explanation of the `make_overlap` function \n",
    "\n",
    "### `Make_overlap` and `make_transition`\n",
    "\n",
    "The `make_overlap` function constructs the following circuit that is able to calculate the overlap between two states of $n$ qubits. \n",
    "\n",
    "<p align='center'>\n",
    "<img src=\"overlap_circuit.png\" alt=\"overlap circ\" width=\"500\"/>\n",
    "</p>\n",
    "\n",
    "Here, $U_0$ and $U_1$ are two unitaries such that: \n",
    "\n",
    "$$U_0 |0\\rangle^n=|\\psi _ 0 \\rangle \\quad , \\quad U_1 |0\\rangle^n=|\\psi _ 1 \\rangle$$ \n",
    "\n",
    "so the circuit prepares the state:\n",
    "\n",
    "$$ \\frac{1}{\\sqrt{2}}(|\\psi _ 0 \\rangle|0\\rangle+|\\psi _ 1 \\rangle|1\\rangle) \\quad $$\n",
    "\n",
    "In the end measuring the ancilla in the $2\\sigma_+$ base, gives as output:\n",
    "\n",
    "$$^n\\langle 0|U_ 0 ^\\dagger U_1 |0\\rangle^n=\\langle\\psi _ 0 |\\psi _ 1 \\rangle \\quad $$\n",
    "\n",
    "We can check the circuit build by the `braket` function with the code contained in the next cell:"
   ]
  },
  {
   "cell_type": "code",
   "execution_count": 17,
   "metadata": {},
   "outputs": [],
   "source": [
    "U0 = X(0) # state |10> #<1>\n",
    "U1 = H(0)+CX(0,1) # Bell state 1/sqrt(2)*(|00>+|11>) #<2>\n",
    "\n",
    "br_objective_real, br_objective_im = tq.braket(ket=U1, bra=U0) #<3>\n",
    "\n",
    "# tq.draw(br_objective_real) #<4>\n"
   ]
  },
  {
   "cell_type": "markdown",
   "metadata": {},
   "source": [
    "1. assume two qubits in $|00>$ and flip the first qubit to get $|10>$\n",
    "2. prepare a bell state as before\n",
    "3. get the real and imaginary parts consistently with the explained notation \n",
    "4. optionally draw the resulted circuit, should look like the one below "
   ]
  },
  {
   "cell_type": "markdown",
   "metadata": {},
   "source": [
    "![](B2.png){width=70%}\n",
    "\n",
    "The resulting circuit should look like this "
   ]
  },
  {
   "cell_type": "markdown",
   "metadata": {},
   "source": [
    "As we can see that one ancilla qubit has been added to our quantum register to be used as control qubit.\n",
    "The two circuits have been controlled and applied with the correct structure: the ancilla has a $H$ gate allowing superposition, the $U_0$ is performed when the ancilla is in state $|0\\rangle$ and the $U_1$ when the ancilla is in state $|1\\rangle$. This circuit will be then measured in the $X$ and $Y$ basis to obtain, respectively, the real and the imaginary part $$(2\\sigma_+=X+iY).$$"
   ]
  },
  {
   "cell_type": "markdown",
   "metadata": {},
   "source": [
    "Regarding the `make_transition` function, this exploits `make_overlap` to calculate multiple contributes of Pauli strings within an Hamiltonian operator. More in detail, suppose we have an Hamiltonian $H$ that can be decomposed as:\n",
    "\n",
    "$$H = \\sum_k c_k P_k$$\n",
    "\n",
    "where $P_k$ are Pauli strings (tensor product of Pauli operators acting on different qubits). Then, in order to calcuate the transition element, we can compute the single contributions and sum them up:\n",
    "\n",
    "$$\\langle\\psi _ 0 | H |\\psi _ 1 \\rangle = \\sum_k c_k \\langle\\psi _ 0 | P_k |\\psi _ 1 \\rangle \\quad $$\n",
    "\n",
    "Each of these contributions can be obtained from `make_overlap` by appending to the $U_1$ circuit the one that implements the Pauli string:\n",
    "$$\\langle\\psi _ 0 | H |\\psi _ 1 \\rangle = \\sum_k c_k \\langle\\psi _ 0 | P_k \\psi _ 1 \\rangle \\quad $$\n",
    "\n"
   ]
  },
  {
   "cell_type": "code",
   "execution_count": 18,
   "metadata": {},
   "outputs": [],
   "source": [
    "U0 = X(0) # state |10> #<1>\n",
    "U1 = H(0)+CX(0,1) # Bell state 1/sqrt(2)*(|00>+|11>) #<2>\n",
    "\n",
    "#Hamiltonian definition\n",
    "operator = QubitHamiltonian(\"-1.0*X(0)X(1)+0.5*Z(0)\") #<3>\n",
    "\n",
    "br_trans_real, br_trans_im = tq.braket(ket=U1, bra=U0, operator=operator)#<4>\n",
    "\n",
    "# tq.draw(br_trans_real) #<5>"
   ]
  },
  {
   "cell_type": "markdown",
   "metadata": {},
   "source": [
    "1. prepare state for $U_0$ the same way as before\n",
    "2. prepare bell state\n",
    "3. decalre hermitian operator consisting of a $Z$ and two $X$ paulis\n",
    "4. use the `braket`function to fetch imaginary and real consistently with the explained notation as before\n",
    "5. optional: draw the circuits, thuy should look like the two circuits below "
   ]
  },
  {
   "cell_type": "markdown",
   "metadata": {},
   "source": [
    "![](B3.png){width=70%}\n",
    "\n",
    "![](B4.png){width=70%}\n",
    "\n",
    "\n",
    "The resulting circuits should look like this "
   ]
  },
  {
   "cell_type": "markdown",
   "metadata": {},
   "source": [
    "We can see that both `br_trans_real` and ` br_trans_im` contain in this case 2 circuits with the same gates in the first part of the circuit, but different gates corresponding to the Pauli operators in the Pauli strings."
   ]
  },
  {
   "cell_type": "markdown",
   "metadata": {},
   "source": [
    "These two functions were designed according to \"N. H. Stair *et al.* - A Multireference Quantum Krylov Algorithm for Strongly Correlated Electrons\" - [arXiv:1911.05163v1](https://arxiv.org/abs/1911.05163), [published paper](https://pubs.acs.org/doi/10.1021/acs.jctc.9b01125).\n",
    "\n",
    "**ATTENTION**: In the attached ArXiv paper an $X$ gate before the control of $U_\\alpha$ in Figure 2 is missing. This has been fixed in the published paper."
   ]
  }
 ],
 "metadata": {
  "interpreter": {
   "hash": "ee5daa585c8ec561a96d5711013c1c24469ecacbf4bca7c4925c7fd376e166ab"
  },
  "kernelspec": {
   "display_name": "Python 3 (ipykernel)",
   "language": "python",
   "name": "python3"
  },
  "language_info": {
   "codemirror_mode": {
    "name": "ipython",
    "version": 3
   },
   "file_extension": ".py",
   "mimetype": "text/x-python",
   "name": "python",
   "nbconvert_exporter": "python",
   "pygments_lexer": "ipython3",
   "version": "3.9.19"
  }
 },
 "nbformat": 4,
 "nbformat_minor": 2
}
