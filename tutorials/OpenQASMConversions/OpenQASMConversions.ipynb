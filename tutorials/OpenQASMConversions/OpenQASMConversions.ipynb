{
 "cells": [
  {
   "cell_type": "markdown",
   "metadata": {},
   "source": [
    "---\n",
    "title: \"OpenQASMConversions\"\n",
    "author: \n",
    "    - name: Claudia Zendejas-Morales\n",
    "    - name: Adapted by Elisabeth Welizky \n",
    "date: \"2024-06-21\"\n",
    "categories: [code]\n",
    "image: OpenQASMConversions.png\n",
    "image-width: \"1cm\"\n",
    "image-height: \"1cm\"\n",
    "format:\n",
    "    html:\n",
    "        code-fold: true\n",
    "        eval: true\n",
    "jupyter: blogqa\n",
    "code-annotations: hover\n",
    "---"
   ]
  },
  {
   "cell_type": "markdown",
   "metadata": {},
   "source": [
    "In this tutorial, we'll introduce OpenQASM, a key language for quantum programming and its use within IBM's Qiskit framework.\n",
    "\n",
    "\n",
    "# Open Quantum Assembly Language\n",
    "\n",
    "**OpenQASM** is an intermediate representation for quantum instructions. The language was first described in a [paper](https://arxiv.org/pdf/1707.03429v2.pdf) published in July 2017, and a reference source code implementation was released as part of IBM's Quantum Information Software Kit (Qiskit) for use with their IBM Q Experience cloud quantum computing platform.\n",
    "\n",
    "OpenQASM defines its version at the head of a source file as a real number, as in the declaration:\n",
    "\n",
    "```\n",
    "OPENQASM 2.0;\n",
    "````\n",
    "\n",
    "The level of OpenQASM's original published implementations (e.g., Qiskit, infra) is OpenQASM 2.0. The 3.0 level of the specification is currently work in progress and can be viewed at the [OpenQASM](https://github.com/qiskit/openqasm) repository on GitHub.\n",
    "\n",
    "Tequila functions `export_open_qasm`, `import_open_qasm`, and `import_open_qasm_from_file` work with current OpenQASM version = 2.0\n",
    "\n",
    "## Example\n",
    "\n",
    "The following is an example of OpenQASM source code from the official library. The [program](https://github.com/QISKit/openqasm/blob/master/examples/generic/adder.qasm) adds two four-bit numbers.\n",
    "\n",
    "```\n",
    "// quantum ripple-carry adder from Cuccaro et al, quant-ph/0410184\n",
    "OPENQASM 2.0;\n",
    "include \"qelib1.inc\";\n",
    "gate majority a,b,c \n",
    "{ \n",
    "  cx c,b; \n",
    "  cx c,a; \n",
    "  ccx a,b,c; \n",
    "}\n",
    "gate unmaj a,b,c \n",
    "{ \n",
    "  ccx a,b,c; \n",
    "  cx c,a; \n",
    "  cx a,b; \n",
    "}\n",
    "qreg cin[1];\n",
    "qreg a[4];\n",
    "qreg b[4];\n",
    "qreg cout[1];\n",
    "creg ans[5];\n",
    "// set input states\n",
    "x a[0]; // a = 0001\n",
    "x b;    // b = 1111\n",
    "// add a to b, storing result in b\n",
    "majority cin[0],b[0],a[0];\n",
    "majority a[0],b[1],a[1];\n",
    "majority a[1],b[2],a[2];\n",
    "majority a[2],b[3],a[3];\n",
    "cx a[3],cout[0];\n",
    "unmaj a[2],b[3],a[3];\n",
    "unmaj a[1],b[2],a[2];\n",
    "unmaj a[0],b[1],a[1];\n",
    "unmaj cin[0],b[0],a[0];\n",
    "measure b[0] -> ans[0];\n",
    "measure b[1] -> ans[1];\n",
    "measure b[2] -> ans[2];\n",
    "measure b[3] -> ans[3];\n",
    "measure cout[0] -> ans[4];\n",
    "````"
   ]
  },
  {
   "cell_type": "markdown",
   "metadata": {},
   "source": [
    "# Export to OpenQASM\n",
    "\n",
    "Once you have a circuit in Tequila, it is possible to generate its equivalent in OpenQASM code, using the `export_open_qasm` function, for example:"
   ]
  },
  {
   "cell_type": "code",
   "execution_count": 32,
   "metadata": {},
   "source": [
    "#| code-fold: false\n",
    "\n",
    "import tequila as tq\n",
    "from numpy import pi\n",
    "circuit = tq.gates.H(target=[0,1]) + \\\n",
    "          tq.gates.Y(target=0) + \\\n",
    "          tq.gates.Z(target=2) + \\\n",
    "          tq.gates.CX(target=3, control=0) + \\\n",
    "          tq.gates.Ry(target=2, angle=pi)                             #<1>\n",
    "circuit.export_to(filename=\"C1_new.qpic\")                             #<2>"
   ],
   "outputs": []
  },
  {
   "cell_type": "markdown",
   "metadata": {},
   "source": [
    "1. A circuit is being created\n",
    "2. The corresponding qpic-file to this circuit is being created. For generating the corresponding png one has to write \"qpic -f png C1_new.qpic\" into the command line"
   ]
  },
  {
   "cell_type": "markdown",
   "metadata": {},
   "source": [
    "![](C1_new.png){width=30%}\n"
   ]
  },
  {
   "cell_type": "code",
   "execution_count": 33,
   "metadata": {},
   "source": [
    "openqasmcode = tq.export_open_qasm(circuit)\n",
    "\n",
    "#print(opencasmcode) #<1>"
   ],
   "outputs": []
  },
  {
   "cell_type": "markdown",
   "metadata": {},
   "source": [
    "1. Shows the circuit of openqasmcode"
   ]
  },
  {
   "cell_type": "markdown",
   "metadata": {},
   "source": [
    "It is possible to generate the OpenQASM code for [ZX-Calculus](https://en.wikipedia.org/wiki/ZX-calculus), that is, without `Y` gates (`Y`, `Ry`, `Cy`, `CRy`), if you want to activate this option you need to use the `zx_calculus` flag. If enabled, the OpenQASM code will be generated without `Y` gates and will instead place their equivalents for each gate."
   ]
  },
  {
   "cell_type": "code",
   "execution_count": 34,
   "metadata": {},
   "source": [
    "#| code-fold: false\n",
    "openqasmcode_no_y = tq.export_open_qasm(circuit, zx_calculus=True)\n"
   ],
   "outputs": []
  },
  {
   "cell_type": "markdown",
   "metadata": {},
   "source": [
    "If the Tequila circuit is created with variables, the corresponding values must be indicated when exporting it to OpenQASM code:"
   ]
  },
  {
   "cell_type": "code",
   "execution_count": 35,
   "metadata": {},
   "source": [
    "circuit_var = tq.gates.H(target=[0,1]) + \\\n",
    "              tq.gates.Y(target=0) + \\\n",
    "              tq.gates.Z(target=2) + \\\n",
    "              tq.gates.CX(target=3, control=0) + \\\n",
    "              tq.gates.Ry(target=2, angle=\"var1\") + \\\n",
    "              tq.gates.Rx(target=0, angle=\"var2\")\n",
    "\n",
    "circuit_var.export_to(filename=\"C2_new.qpic\")"
   ],
   "outputs": []
  },
  {
   "cell_type": "markdown",
   "metadata": {},
   "source": [
    "![](C2_new.png){width=30%}\n"
   ]
  },
  {
   "cell_type": "code",
   "execution_count": 36,
   "metadata": {},
   "source": [
    "variables = {\"var1\":2.8, \"var2\": pi/7}\n",
    "\n",
    "openqasmcode_var = tq.export_open_qasm(circuit_var, variables=variables)"
   ],
   "outputs": []
  },
  {
   "cell_type": "markdown",
   "metadata": {},
   "source": [
    "For convenience, it is possible to generate the code in OpenQASM and send the result to a file for external use. The name of the file must be indicated in the `filename` parameter:"
   ]
  },
  {
   "cell_type": "code",
   "execution_count": 37,
   "metadata": {},
   "source": [
    "openqasmcode = tq.export_open_qasm(circuit, filename=\"MyOpenQASMCode.qasm\")\n",
    "\n",
    "#print(opencasmcode) #<1>"
   ],
   "outputs": []
  },
  {
   "cell_type": "markdown",
   "metadata": {},
   "source": [
    "1. Shows the circuit of openqasmcode"
   ]
  },
  {
   "cell_type": "markdown",
   "metadata": {},
   "source": [
    "Now the `MyOpenQASMCode.qasm` file has been created\n",
    "\n",
    "# Import from OpenQASM\n",
    "\n",
    "It is possible to take a code in OpenQASM and use it to generate a circuit in Tequila, using the `import_open_qasm` function, for example:"
   ]
  },
  {
   "cell_type": "code",
   "execution_count": 38,
   "metadata": {},
   "source": [
    "openqasmcode = \"OPENQASM 2.0;\\n\" \\\n",
    "               \"include \\\"qelib1.inc\\\";\\n\" \\\n",
    "               \"qreg q1[3];\\n\" \\\n",
    "               \"qreg q2[4];\\n\" \\\n",
    "               \"creg c[3];\\n\" \\\n",
    "               \"x q1[0];\\n\" \\\n",
    "               \"y q1[1];\\n\" \\\n",
    "               \"h q2[2];\\n\" \\\n",
    "               \"cz q1[0],q2[2];\\n\" \\\n",
    "               \"ch q2[1],q2[3];\\n\" \\\n",
    "               \"ccx q1[0],q1[1],q2[1];\\n\" \\\n",
    "               \"rx(pi) q1[1];\\n\" \\\n",
    "               \"rz(pi/7) q1[0];\\n\" \\\n",
    "               \"cry(1.6*pi) q2[0],q2[1];\\n\" \\\n",
    "\n",
    "circuit = tq.import_open_qasm(openqasmcode)\n",
    "circuit.export_to(filename=\"C3_new.qpic\")"
   ],
   "outputs": []
  },
  {
   "cell_type": "markdown",
   "metadata": {},
   "source": [
    "![](C3_new.png){width=30%}\n"
   ]
  },
  {
   "cell_type": "markdown",
   "metadata": {},
   "source": [
    "You can import an OpenQASM code that is not written strictly, but only has the instructions of the gates without containing the definition lines, for this the `rigorous` flag is used, for example:"
   ]
  },
  {
   "cell_type": "code",
   "execution_count": 39,
   "metadata": {},
   "source": [
    "openqasmcode_not_rigorous = \"qreg q1[3];\\n\" \\\n",
    "                            \"qreg q2[4];\\n\" \\\n",
    "                            \"creg c[3];\\n\" \\\n",
    "                            \"x q1[0];\\n\" \\\n",
    "                            \"y q1[1];\\n\" \\\n",
    "                            \"cz q1[0],q2[2];\\n\" \\\n",
    "                            \"ccx q1[0],q1[1],q2[1];\\n\" \\\n",
    "                            \"rz(pi/7) q1[0];\\n\" \\\n",
    "                            \"cry(1.6*pi) q2[0],q2[1];\\n\" \\\n",
    "\n",
    "circuit_nr = tq.import_open_qasm(openqasmcode_not_rigorous, rigorous=False)         #<1>\n",
    "circuit_from_file = tq.import_open_qasm_from_file(filename=\"MyOpenQASMCode.qasm\")\n",
    "circuit_from_file.export_to(filename=\"C8_new.qpic\")"
   ],
   "outputs": []
  },
  {
   "cell_type": "markdown",
   "metadata": {},
   "source": [
    "1. In the case of having the OpenQASM code in a file, it is possible to load that file to generate the Tequila circuit from there, for this the `import_open_qasm_from_file` function is used"
   ]
  },
  {
   "cell_type": "markdown",
   "metadata": {},
   "source": [
    "![](C8_new.png){width=100%}"
   ]
  },
  {
   "cell_type": "code",
   "execution_count": 40,
   "metadata": {},
   "source": [
    "openqasmcode_not_rigorous = \"qreg q1[3];\\n\" \\\n",
    "                            \"qreg q2[4];\\n\" \\\n",
    "                            \"creg c[3];\\n\" \\\n",
    "                            \"x q1[0];\\n\" \\\n",
    "                            \"y q1[1];\\n\" \\\n",
    "                            \"cz q1[0],q2[2];\\n\" \\\n",
    "                            \"ccx q1[0],q1[1],q2[1];\\n\" \\\n",
    "                            \"rz(pi/7) q1[0];\\n\" \\\n",
    "                            \"cry(1.6*pi) q2[0],q2[1];\\n\" \\\n",
    "\n",
    "circuit_nr = tq.import_open_qasm(openqasmcode_not_rigorous, rigorous=False)             \n",
    "circuit_nr.export_to(filename=\"C4_new.qpic\")\n"
   ],
   "outputs": []
  },
  {
   "cell_type": "markdown",
   "metadata": {},
   "source": [
    "![](C4_new.png){width=30%}\n"
   ]
  },
  {
   "cell_type": "markdown",
   "metadata": {},
   "source": [
    "If the OpenQASM code contains *custom gates*, importing into a Tequila circuit will generate the equivalent with the gates in the proper place with their corresponding parameters, for example:"
   ]
  },
  {
   "cell_type": "code",
   "execution_count": 41,
   "metadata": {},
   "source": [
    "openqasmcode_custom = \"OPENQASM 2.0;\\n\" \\\n",
    "                      \"include \\\"qelib1.inc\\\";\\n\" \\\n",
    "                      \"gate mycustom a,b,c\\n\" \\\n",
    "                      \"{\\n\" \\\n",
    "                      \"cx c,b;\\n\" \\\n",
    "                      \"cx c,a;\\n\" \\\n",
    "                      \"}\\n\" \\\n",
    "                      \"qreg q1[3];\\n\" \\\n",
    "                      \"qreg q2[4];\\n\" \\\n",
    "                      \"creg c[3];\\n\" \\\n",
    "                      \"y q1[1];\\n\" \\\n",
    "                      \"z q2[2];\\n\" \\\n",
    "                      \"mycustom q1[0],q2[0],q1[2];\\n\" \\\n",
    "                      \"h q2[1];\\n\" \\\n",
    "                      \"mycustom q2[3],q1[1],q2[2];\\n\" \\\n",
    "                      \"y q2[1];\\n\"\n",
    "\n",
    "circuit_cg = tq.import_open_qasm(openqasmcode_custom)\n",
    "circuit_cg.export_to(filename=\"C5_new.qpic\")\n"
   ],
   "outputs": []
  },
  {
   "cell_type": "markdown",
   "metadata": {},
   "source": [
    "![](C5_new.png){width=30%}"
   ]
  },
  {
   "cell_type": "code",
   "execution_count": 42,
   "metadata": {},
   "source": [
    "openqasmcode = tq.export_open_qasm(circuit)\n",
    "\n",
    "print(openqasmcode)"
   ],
   "outputs": []
  },
  {
   "cell_type": "markdown",
   "metadata": {},
   "source": [
    "It is possible to generate the OpenQASM code for [ZX-Calculus](https://en.wikipedia.org/wiki/ZX-calculus), that is, without `Y` gates (`Y`, `Ry`, `Cy`, `CRy`), if you want to activate this option you need to use the `zx_calculus` flag. If enabled, the OpenQASM code will be generated without `Y` gates and will instead place their equivalents for each gate.\n",
    "\n",
    "If the Tequila circuit is created with variables, the corresponding values must be indicated when exporting it to OpenQASM code:"
   ]
  },
  {
   "cell_type": "code",
   "execution_count": 43,
   "metadata": {},
   "source": [
    "openqasmcode_no_y = tq.export_open_qasm(circuit, zx_calculus=True)\n",
    "#print(opencasmcode) #<1>\n",
    "circuit_var = tq.gates.H(target=[0,1]) + \\\n",
    "              tq.gates.Y(target=0) + \\\n",
    "              tq.gates.Z(target=2) + \\\n",
    "              tq.gates.CX(target=3, control=0) + \\\n",
    "              tq.gates.Ry(target=2, angle=\"var1\") + \\\n",
    "              tq.gates.Rx(target=0, angle=\"var2\")\n",
    "circuit_var.export_to(filename=\"C6_new.qpic\")"
   ],
   "outputs": []
  },
  {
   "cell_type": "markdown",
   "metadata": {},
   "source": [
    "1. Shows the circuit of openqasmcode_no_y"
   ]
  },
  {
   "cell_type": "markdown",
   "metadata": {},
   "source": [
    "![](C6_new.png){width=30%}\n"
   ]
  },
  {
   "cell_type": "code",
   "execution_count": 44,
   "metadata": {},
   "source": [
    "variables = {\"var1\":2.8, \"var2\": pi/7}\n",
    "\n",
    "openqasmcode_var = tq.export_open_qasm(circuit_var, variables=variables)\n",
    "\n",
    "print(openqasmcode_var)"
   ],
   "outputs": []
  },
  {
   "cell_type": "markdown",
   "metadata": {},
   "source": [
    "For convenience, it is possible to generate the code in OpenQASM and send the result to a file for external use. The name of the file must be indicated in the `filename` parameter:"
   ]
  },
  {
   "cell_type": "code",
   "execution_count": 45,
   "metadata": {},
   "source": [
    "openqasmcode = tq.export_open_qasm(circuit, filename=\"MyOpenQASMCode.qasm\")\n",
    "\n",
    "#print(opencasmcode) #<1>"
   ],
   "outputs": []
  },
  {
   "cell_type": "markdown",
   "metadata": {},
   "source": [
    "1. Shows the circuit of openqasmcode"
   ]
  }
 ],
 "metadata": {
  "@webio": {
   "lastCommId": null,
   "lastKernelId": null
  },
  "kernelspec": {
   "display_name": "Python 3",
   "language": "python",
   "name": "python3"
  },
  "language_info": {
   "codemirror_mode": {
    "name": "ipython",
    "version": 3
   },
   "file_extension": ".py",
   "mimetype": "text/x-python",
   "name": "python",
   "nbconvert_exporter": "python",
   "pygments_lexer": "ipython3",
   "version": "3.9.19"
  }
 },
 "nbformat": 4,
 "nbformat_minor": 4
}
