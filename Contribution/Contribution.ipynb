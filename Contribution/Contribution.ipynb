{
 "cells": [
  {
   "cell_type": "markdown",
   "metadata": {},
   "source": [
    "---\n",
    "title: \"Contribution\"\n",
    "categories: [code]\n",
    "image-width: \"1cm\"\n",
    "image-height: \"1cm\"\n",
    "format:\n",
    "    html:\n",
    "        code-fold: false\n",
    "        eval: true\n",
    "jupyter: blogqa\n",
    "code-annotations: hover\n",
    "---"
   ]
  },
  {
   "cell_type": "markdown",
   "metadata": {},
   "source": [
    "If you find any bugs or inconveniences in tequila please don't be shy and let us know. You can do so either by raising an issue on github or contact us directly.\n",
    "\n",
    "# How can you upload your own tutorial or research page?\n",
    "### How to install Quarto\n",
    "\n",
    "For installing and using Quarto correctly, please take a look at some helpul links:\n",
    "\n",
    "* Installation: https://quarto.org/docs/get-started/\n",
    "* Quarto basics: https://quarto.org/docs/get-started/hello/rstudio.html\n",
    "\n",
    "### How to set up the environment and compile the blog\n",
    "1. Clone from source\n",
    "2. Create a conda environment with the name 'BlogQa'\n",
    "(concrete: opt/anaconda3/envs/BlogQA/bin/python3):\n",
    "* conda create -n BlogQA python=3.9\n",
    "* conda env list\n",
    "* python -m ipykernel install --user --name=BlogQA\n",
    "* conda install ipykernel\n",
    "* conda activate BlogQA\n",
    "\n",
    "3. Install the dependecies as well as everthing needed regarding Jupyter and the BlogQA Kernel:\n",
    "In particular these are the following ones:\n",
    "* conda create -n BlogQA python=3.9\n",
    "* pip install pyyaml\n",
    "* pip install nbformat\n",
    "* pip install nbclient\n",
    "* pip install numpy\n",
    "* pip install scipy\n",
    "* pip install matplotlib\n",
    "* pip install tequila-basic\n",
    "* pip install qulacs\n",
    "* pip install pyscf\n",
    "    \n",
    "4. Preview with \"quarto preview\"\n",
    "\n",
    "### How to add your contribution\n",
    "\n",
    "First, please make sure that only ipynb-files or quarto-files are allowed as tutorials or research pages for the website. Within these, the following HTML parameters can be placed in a separate markdown at the top, before the actual content begins:\n"
   ]
  },
  {
   "cell_type": "code",
   "execution_count": null,
   "metadata": {},
   "outputs": [],
   "source": [
    "title: \"Any titel\"\n",
    "author: \"Your full name\"\n",
    "date: \"yyyy-mm-dd\"\n",
    "categories: [code]\n",
    "image-width: \"1cm\"\n",
    "image-height: \"1cm\"\n",
    "format:\n",
    "    html:\n",
    "        code-fold: false\n",
    "        eval: true\n",
    "jupyter: blogqa"
   ]
  },
  {
   "cell_type": "markdown",
   "metadata": {},
   "source": [
    "Begin and end this section with three hyphens (---)\n",
    "\n",
    "### How to submit\n",
    "1. Make a fork of tequila to your own github account.\n",
    "2. Checkout the devel branch and make sure it is up to date with the main github repository.\n",
    "3. Create and checkout a new branch from devel via git branch pr-my-branch-name followed by git checkout pr-my-branch-name. By typing git branch afterwards you can check which branch is currently checked out on your computer.\n",
    "4. Navigate to the tutorial/ researches folder and create your own subfolder, which you name with the tutorial/research name. This subfolder should include your ipynb/quarto-file (as well as other necessary files, such as png-files for importing images).\n",
    "5. Introduce changes to the code and commit them with git.\n",
    "6. Push the changes to your github account.\n",
    "7. Log into github and create a pull request to the main github repository. The pull request should be directed to the devel branch (but we can also change that afterwards).\n",
    "\n",
    "If you plan to introduce major changes to the base library it can be beneficial to contact us first. This way we might be able to avoid conflicts before they arise.\n",
    "\n",
    "If you used tequila for your research, feel free to include your algorithms here, either by integrating it into the core libraries or by demonstrating it with a notebook in the tutorials section. If you let us know about it, we will also add your research article in the list of research projects that use tequila (see the github repos README)."
   ]
  }
 ],
 "metadata": {
  "kernelspec": {
   "display_name": "Python 3",
   "language": "python",
   "name": "python3"
  },
  "language_info": {
   "codemirror_mode": {
    "name": "ipython",
    "version": 3
   },
   "file_extension": ".py",
   "mimetype": "text/x-python",
   "name": "python",
   "nbconvert_exporter": "python",
   "pygments_lexer": "ipython3",
   "version": "3.9.19"
  }
 },
 "nbformat": 4,
 "nbformat_minor": 2
}
