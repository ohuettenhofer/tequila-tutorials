{
 "cells": [
  {
   "cell_type": "markdown",
   "metadata": {},
   "source": [
    "---\n",
    "title: \"FAQ\"\n",
    "author: \"Elisabeth Welizky\"\n",
    "date: \"2024-08-02\"\n",
    "categories: [code]\n",
    "image-width: \"1cm\"\n",
    "image-height: \"1cm\"\n",
    "format:\n",
    "    html:\n",
    "        code-fold: false\n",
    "        eval: true\n",
    "jupyter: blogqa\n",
    "code-annotations: hover\n",
    "---"
   ]
  },
  {
   "cell_type": "markdown",
   "metadata": {},
   "source": [
    "# Frequently Asked Questions\n",
    "\n",
    "### It is recommended to take a look at the `BasicUsage` notebook before looking at this"
   ]
  },
  {
   "cell_type": "code",
   "metadata": {
    "ExecuteTime": {
     "end_time": "2024-09-03T08:59:21.719839Z",
     "start_time": "2024-09-03T08:59:21.717781Z"
    }
   },
   "source": [
    "import tequila as tq\n",
    "import numpy"
   ],
   "outputs": [],
   "execution_count": 16
  },
  {
   "cell_type": "markdown",
   "metadata": {},
   "source": [
    "# Which optimization methods can I use?\n",
    "\n",
    "`tq.show_available_optimizers` shows you all installed modules on your systems and the methods which `tq.minimize` understands. Method names are not case sensitive when passed to `tq.minimize`.  \n",
    "\n",
    "In the end you see which modules are supported and which of them are actually installed on your system.  \n",
    "The table with methods and modules will only show you the methods for modules that are currently installed within your environment.  \n",
    "\n",
    "Of course you can also use tequila objectives for your own optimizers.  \n",
    "You don't need to use the modules here."
   ]
  },
  {
   "cell_type": "code",
   "metadata": {
    "ExecuteTime": {
     "end_time": "2024-09-03T08:59:21.751911Z",
     "start_time": "2024-09-03T08:59:21.748178Z"
    }
   },
   "source": [
    "tq.show_available_optimizers()"
   ],
   "outputs": [
    {
     "name": "stdout",
     "output_type": "stream",
     "text": [
      "available methods for optimizer modules found on your system:\n",
      "method               | optimizer module\n",
      "--------------------------\n",
      "NELDER-MEAD          | scipy\n",
      "COBYLA               | scipy\n",
      "POWELL               | scipy\n",
      "SLSQP                | scipy\n",
      "L-BFGS-B             | scipy\n",
      "BFGS                 | scipy\n",
      "CG                   | scipy\n",
      "TNC                  | scipy\n",
      "TRUST-KRYLOV         | scipy\n",
      "NEWTON-CG            | scipy\n",
      "DOGLEG               | scipy\n",
      "TRUST-NCG            | scipy\n",
      "TRUST-EXACT          | scipy\n",
      "TRUST-CONSTR         | scipy\n",
      "adam                 | gd\n",
      "adagrad              | gd\n",
      "adamax               | gd\n",
      "nadam                | gd\n",
      "sgd                  | gd\n",
      "momentum             | gd\n",
      "nesterov             | gd\n",
      "rmsprop              | gd\n",
      "rmsprop-nesterov     | gd\n",
      "spsa                 | gd\n",
      "gpyopt-lbfgs         | gpyopt\n",
      "gpyopt-direct        | gpyopt\n",
      "gpyopt-cma           | gpyopt\n",
      "Supported optimizer modules:  ['scipy', 'gpyopt', 'gd']\n",
      "Installed optimizer modules:  ['scipy', 'gd', 'gpyopt']\n"
     ]
    }
   ],
   "execution_count": 17
  },
  {
   "cell_type": "markdown",
   "metadata": {},
   "source": [
    "# Which simulators/Quantum-Backends can I use?\n",
    "\n",
    "`tq.show_available_simulators` shows all simulators/quantum backends which are supported by tequila as well as which are installed within your current environment.  \n",
    "\n",
    "The default choice if you don't specify a backend when for example simulating a tequila objective with `tq.simulate` is the first entry of the supported backends which is installed on your system."
   ]
  },
  {
   "cell_type": "code",
   "metadata": {
    "ExecuteTime": {
     "end_time": "2024-09-03T08:59:21.756566Z",
     "start_time": "2024-09-03T08:59:21.753757Z"
    }
   },
   "source": [
    "tq.show_available_simulators()"
   ],
   "outputs": [
    {
     "name": "stdout",
     "output_type": "stream",
     "text": [
      "backend         | wfn        | sampling   | noise      | installed \n",
      "--------------------------------------------------------------------\n",
      "qulacs_gpu      | False      | False      | False      | False     \n",
      "qulacs          | True       | True       | True       | True      \n",
      "qibo            | False      | False      | False      | False     \n",
      "qiskit          | False      | False      | False      | False     \n",
      "cirq            | False      | False      | False      | False     \n",
      "pyquil          | True       | True       | True       | True      \n",
      "symbolic        | True       | False      | False      | True      \n",
      "qlm             | False      | False      | False      | False     \n"
     ]
    }
   ],
   "execution_count": 18
  },
  {
   "cell_type": "markdown",
   "metadata": {},
   "source": [
    "# Can I avoid re-translation/compilation on my objectives/circuits?\n",
    "\n",
    "Yes, you can. By calling `tq.compile` instead of `tq.simulate`.\n",
    "This will give you back a callable objective.  \n",
    "Check also the `basic usage` tutorial notebook"
   ]
  },
  {
   "cell_type": "code",
   "metadata": {
    "ExecuteTime": {
     "end_time": "2024-09-03T08:59:21.770709Z",
     "start_time": "2024-09-03T08:59:21.758753Z"
    }
   },
   "source": [
    "U = tq.gates.H(target=1) + tq.gates.Rx(angle=\"a\", target=0, control=1)\n",
    "\n",
    "# simulate the wavefunction with different variables\n",
    "wfn0 = tq.simulate(U, variables={\"a\": 1.0})\n",
    "wfn1 = tq.simulate(U, variables={\"a\": 2.0})\n",
    "\n",
    "print(wfn0)\n",
    "print(wfn1)\n",
    "\n",
    "# the same, but avoiding re-compilation\n",
    "# Note that your compiled object is translated to a quantum backend\n",
    "# if the backend was not set, tequila it will pick the default which depends\n",
    "# on which backends you have installed. You will seee it in the printout of the\n",
    "# compiled circuits\n",
    "compiled_U = tq.compile(U)\n",
    "wfn0 = compiled_U(variables={\"a\":1.0})\n",
    "wfn1 = compiled_U(variables={\"a\":2.0})\n",
    "\n",
    "print(\"compiled circuit:\", compiled_U)\n",
    "print(wfn0)\n",
    "print(wfn1)\n",
    "\n",
    "\n",
    "# With Objectives it works in the same way\n",
    "H = tq.paulis.Y(0)\n",
    "E = tq.ExpectationValue(H=H, U=U)\n",
    "objective = E**2 + 1.0\n",
    "\n",
    "# simulate the objective with different variables\n",
    "result0 = tq.simulate(objective, variables={\"a\": 1.0})\n",
    "result1 = tq.simulate(objective, variables={\"a\": 2.0})\n",
    "\n",
    "print(\"compiled objective:\", objective)\n",
    "print(result0)\n",
    "print(result1)\n",
    "\n",
    "# compile and then simulate\n",
    "compiled_objective = tq.compile(objective)\n",
    "result0 = compiled_objective(variables={\"a\":1.0})\n",
    "result1 = compiled_objective(variables={\"a\":2.0})\n",
    "\n",
    "print(\"compiled objective:\", compiled_objective)\n",
    "print(result0)\n",
    "print(result1)"
   ],
   "outputs": [
    {
     "name": "stdout",
     "output_type": "stream",
     "text": [
      "+0.7071|00> +0.6205|01> -0.3390i|11> \n",
      "+0.7071|00> +0.3821|01> -0.5950i|11> \n",
      "compiled circuit: <tequila.simulators.simulator_qulacs.BackendCircuitQulacs object at 0x3075b72e0>\n",
      "+0.7071|00> +0.6205|01> -0.3390i|11> \n",
      "+0.7071|00> +0.3821|01> -0.5950i|11> \n",
      "compiled objective: Objective with 1 unique expectation values\n",
      "total measurements = 1\n",
      "variables          = [a]\n",
      "types              = not compiled\n",
      "1.1770183545683928\n",
      "1.2067054526079515\n",
      "compiled objective: Objective with 1 unique expectation values\n",
      "total measurements = 1\n",
      "variables          = [a]\n",
      "types              = [<class 'tequila.simulators.simulator_qulacs.BackendExpectationValueQulacs'>]\n",
      "1.1770183545683928\n",
      "1.2067054526079515\n"
     ]
    }
   ],
   "execution_count": 19
  },
  {
   "cell_type": "markdown",
   "metadata": {},
   "source": [
    "# How can I emulate a real quantum computer?\n",
    "Emulation is performed similarly to running on real devices. All you need to do is pass down the right string to the 'device' keyword. For qiskit, these are the same as for regular backends, but have 'fake_' at the beginning; I.E to emulate 'armonk;, set `device=\"fake_armonk\"`. For PyQuil, this is done by adding '-qvm' to the end of the chosen string, i.e, 'Aspen-8' becomes `device=Aspen-8-qvm'`. For Cirq, only emulation is currently possible; the only string options for cirq are 'foxtail','bristlecone','sycamore', and 'sycamore23'.\n",
    "\n",
    "When emulating, a few things about the real device will be mimicked, principally its native gate set and its connectivities. Emulation will NOT include noisy emulation by default; If you want to emulate noise, pass down the keyword `noise='device'`. Using this option without specifying a device will result in an error.\n",
    "\n",
    "Below, we will emulate pyquil's Aspen 8, with emulated noise. You need pyquil installed for this to work.\n",
    "\n",
    "additionally: when real backends cannot be accessed, emulation will be attempted, with a warning."
   ]
  },
  {
   "cell_type": "code",
   "metadata": {
    "ExecuteTime": {
     "end_time": "2024-09-03T08:59:21.961332Z",
     "start_time": "2024-09-03T08:59:21.772268Z"
    }
   },
   "source": [
    "U = tq.gates.Ry(angle=\"a\", target=0)\n",
    "H = tq.paulis.X(0)\n",
    "E = tq.ExpectationValue(H=H, U=U)\n",
    "\n",
    "# simulate the square of the expectation value with a specific set of variables\n",
    "result = tq.simulate(E**2, variables={\"a\":1.0}, samples=1000, backend=\"pyquil\")\n",
    "print('sampling from pyquil yielded: ', result)\n",
    "result = tq.simulate(E**2, variables={\"a\":1.0}, samples=1000, backend=\"pyquil\",device='Aspen-8-qvm')\n",
    "print('sampling from pyquil while emulating Aspen-8 yielded: ', result)\n",
    "result = tq.optimizer_scipy.minimize(E**2, initial_values={\"a\":1.0}, samples=1000,\n",
    "                                    backend='pyquil', device=\"Aspen-8-qvm\", \n",
    "                                    noise='device')\n",
    "print('optimizing while emulating Aspen-8 with noise yielded a best energy of: ', result.energy)"
   ],
   "outputs": [
    {
     "ename": "QVMError",
     "evalue": "Could not communicate with QVM at http://127.0.0.1:5000",
     "output_type": "error",
     "traceback": [
      "\u001B[0;31m---------------------------------------------------------------------------\u001B[0m",
      "\u001B[0;31mQVMError\u001B[0m                                  Traceback (most recent call last)",
      "Cell \u001B[0;32mIn[20], line 6\u001B[0m\n\u001B[1;32m      3\u001B[0m E \u001B[38;5;241m=\u001B[39m tq\u001B[38;5;241m.\u001B[39mExpectationValue(H\u001B[38;5;241m=\u001B[39mH, U\u001B[38;5;241m=\u001B[39mU)\n\u001B[1;32m      5\u001B[0m \u001B[38;5;66;03m# simulate the square of the expectation value with a specific set of variables\u001B[39;00m\n\u001B[0;32m----> 6\u001B[0m result \u001B[38;5;241m=\u001B[39m \u001B[43mtq\u001B[49m\u001B[38;5;241;43m.\u001B[39;49m\u001B[43msimulate\u001B[49m\u001B[43m(\u001B[49m\u001B[43mE\u001B[49m\u001B[38;5;241;43m*\u001B[39;49m\u001B[38;5;241;43m*\u001B[39;49m\u001B[38;5;241;43m2\u001B[39;49m\u001B[43m,\u001B[49m\u001B[43m \u001B[49m\u001B[43mvariables\u001B[49m\u001B[38;5;241;43m=\u001B[39;49m\u001B[43m{\u001B[49m\u001B[38;5;124;43m\"\u001B[39;49m\u001B[38;5;124;43ma\u001B[39;49m\u001B[38;5;124;43m\"\u001B[39;49m\u001B[43m:\u001B[49m\u001B[38;5;241;43m1.0\u001B[39;49m\u001B[43m}\u001B[49m\u001B[43m,\u001B[49m\u001B[43m \u001B[49m\u001B[43msamples\u001B[49m\u001B[38;5;241;43m=\u001B[39;49m\u001B[38;5;241;43m1000\u001B[39;49m\u001B[43m,\u001B[49m\u001B[43m \u001B[49m\u001B[43mbackend\u001B[49m\u001B[38;5;241;43m=\u001B[39;49m\u001B[38;5;124;43m\"\u001B[39;49m\u001B[38;5;124;43mpyquil\u001B[39;49m\u001B[38;5;124;43m\"\u001B[39;49m\u001B[43m)\u001B[49m\n\u001B[1;32m      7\u001B[0m \u001B[38;5;28mprint\u001B[39m(\u001B[38;5;124m'\u001B[39m\u001B[38;5;124msampling from pyquil yielded: \u001B[39m\u001B[38;5;124m'\u001B[39m, result)\n\u001B[1;32m      8\u001B[0m result \u001B[38;5;241m=\u001B[39m tq\u001B[38;5;241m.\u001B[39msimulate(E\u001B[38;5;241m*\u001B[39m\u001B[38;5;241m*\u001B[39m\u001B[38;5;241m2\u001B[39m, variables\u001B[38;5;241m=\u001B[39m{\u001B[38;5;124m\"\u001B[39m\u001B[38;5;124ma\u001B[39m\u001B[38;5;124m\"\u001B[39m:\u001B[38;5;241m1.0\u001B[39m}, samples\u001B[38;5;241m=\u001B[39m\u001B[38;5;241m1000\u001B[39m, backend\u001B[38;5;241m=\u001B[39m\u001B[38;5;124m\"\u001B[39m\u001B[38;5;124mpyquil\u001B[39m\u001B[38;5;124m\"\u001B[39m,device\u001B[38;5;241m=\u001B[39m\u001B[38;5;124m'\u001B[39m\u001B[38;5;124mAspen-8-qvm\u001B[39m\u001B[38;5;124m'\u001B[39m)\n",
      "File \u001B[0;32m/opt/anaconda3/envs/BlogQA/lib/python3.9/site-packages/tequila/simulators/simulator_api.py:394\u001B[0m, in \u001B[0;36msimulate\u001B[0;34m(objective, variables, samples, backend, noise, device, *args, **kwargs)\u001B[0m\n\u001B[1;32m    387\u001B[0m     \u001B[38;5;28;01mraise\u001B[39;00m TequilaException(\n\u001B[1;32m    388\u001B[0m         \u001B[38;5;124m\"\u001B[39m\u001B[38;5;124mYou called simulate for a parametrized type but forgot to pass down the variables: \u001B[39m\u001B[38;5;132;01m{}\u001B[39;00m\u001B[38;5;124m\"\u001B[39m\u001B[38;5;241m.\u001B[39mformat(\n\u001B[1;32m    389\u001B[0m             objective\u001B[38;5;241m.\u001B[39mextract_variables()))\n\u001B[1;32m    391\u001B[0m compiled_objective \u001B[38;5;241m=\u001B[39m \u001B[38;5;28mcompile\u001B[39m(objective\u001B[38;5;241m=\u001B[39mobjective, samples\u001B[38;5;241m=\u001B[39msamples, variables\u001B[38;5;241m=\u001B[39mvariables, backend\u001B[38;5;241m=\u001B[39mbackend,\n\u001B[1;32m    392\u001B[0m                              noise\u001B[38;5;241m=\u001B[39mnoise,device\u001B[38;5;241m=\u001B[39mdevice, \u001B[38;5;241m*\u001B[39margs, \u001B[38;5;241m*\u001B[39m\u001B[38;5;241m*\u001B[39mkwargs)\n\u001B[0;32m--> 394\u001B[0m \u001B[38;5;28;01mreturn\u001B[39;00m \u001B[43mcompiled_objective\u001B[49m\u001B[43m(\u001B[49m\u001B[43mvariables\u001B[49m\u001B[38;5;241;43m=\u001B[39;49m\u001B[43mvariables\u001B[49m\u001B[43m,\u001B[49m\u001B[43m \u001B[49m\u001B[43msamples\u001B[49m\u001B[38;5;241;43m=\u001B[39;49m\u001B[43msamples\u001B[49m\u001B[43m,\u001B[49m\u001B[43m \u001B[49m\u001B[38;5;241;43m*\u001B[39;49m\u001B[43margs\u001B[49m\u001B[43m,\u001B[49m\u001B[43m \u001B[49m\u001B[38;5;241;43m*\u001B[39;49m\u001B[38;5;241;43m*\u001B[39;49m\u001B[43mkwargs\u001B[49m\u001B[43m)\u001B[49m\n",
      "File \u001B[0;32m/opt/anaconda3/envs/BlogQA/lib/python3.9/site-packages/tequila/objective/objective.py:582\u001B[0m, in \u001B[0;36mObjective.__call__\u001B[0;34m(self, variables, *args, **kwargs)\u001B[0m\n\u001B[1;32m    580\u001B[0m \u001B[38;5;28;01mfor\u001B[39;00m E \u001B[38;5;129;01min\u001B[39;00m \u001B[38;5;28mself\u001B[39m\u001B[38;5;241m.\u001B[39margs:\n\u001B[1;32m    581\u001B[0m     \u001B[38;5;28;01mif\u001B[39;00m E \u001B[38;5;129;01mnot\u001B[39;00m \u001B[38;5;129;01min\u001B[39;00m evaluated:  \u001B[38;5;66;03m#\u001B[39;00m\n\u001B[0;32m--> 582\u001B[0m         expval_result \u001B[38;5;241m=\u001B[39m \u001B[43mE\u001B[49m\u001B[43m(\u001B[49m\u001B[43mvariables\u001B[49m\u001B[38;5;241;43m=\u001B[39;49m\u001B[43mvariables\u001B[49m\u001B[43m,\u001B[49m\u001B[43m \u001B[49m\u001B[38;5;241;43m*\u001B[39;49m\u001B[43margs\u001B[49m\u001B[43m,\u001B[49m\u001B[43m \u001B[49m\u001B[38;5;241;43m*\u001B[39;49m\u001B[38;5;241;43m*\u001B[39;49m\u001B[43mkwargs\u001B[49m\u001B[43m)\u001B[49m\n\u001B[1;32m    583\u001B[0m         evaluated[E] \u001B[38;5;241m=\u001B[39m expval_result\n\u001B[1;32m    584\u001B[0m     \u001B[38;5;28;01melse\u001B[39;00m:\n",
      "File \u001B[0;32m/opt/anaconda3/envs/BlogQA/lib/python3.9/site-packages/tequila/simulators/simulator_base.py:776\u001B[0m, in \u001B[0;36mBackendExpectationValue.__call__\u001B[0;34m(self, variables, samples, *args, **kwargs)\u001B[0m\n\u001B[1;32m    774\u001B[0m     data \u001B[38;5;241m=\u001B[39m \u001B[38;5;28mself\u001B[39m\u001B[38;5;241m.\u001B[39msimulate(variables\u001B[38;5;241m=\u001B[39mvariables, \u001B[38;5;241m*\u001B[39margs, \u001B[38;5;241m*\u001B[39m\u001B[38;5;241m*\u001B[39mkwargs)\n\u001B[1;32m    775\u001B[0m \u001B[38;5;28;01melse\u001B[39;00m:\n\u001B[0;32m--> 776\u001B[0m     data \u001B[38;5;241m=\u001B[39m \u001B[38;5;28;43mself\u001B[39;49m\u001B[38;5;241;43m.\u001B[39;49m\u001B[43msample\u001B[49m\u001B[43m(\u001B[49m\u001B[43mvariables\u001B[49m\u001B[38;5;241;43m=\u001B[39;49m\u001B[43mvariables\u001B[49m\u001B[43m,\u001B[49m\u001B[43m \u001B[49m\u001B[43msamples\u001B[49m\u001B[38;5;241;43m=\u001B[39;49m\u001B[43msamples\u001B[49m\u001B[43m,\u001B[49m\u001B[43m \u001B[49m\u001B[38;5;241;43m*\u001B[39;49m\u001B[43margs\u001B[49m\u001B[43m,\u001B[49m\u001B[43m \u001B[49m\u001B[38;5;241;43m*\u001B[39;49m\u001B[38;5;241;43m*\u001B[39;49m\u001B[43mkwargs\u001B[49m\u001B[43m)\u001B[49m\n\u001B[1;32m    778\u001B[0m \u001B[38;5;28;01mif\u001B[39;00m \u001B[38;5;28mself\u001B[39m\u001B[38;5;241m.\u001B[39m_shape \u001B[38;5;129;01mis\u001B[39;00m \u001B[38;5;28;01mNone\u001B[39;00m \u001B[38;5;129;01mand\u001B[39;00m \u001B[38;5;28mself\u001B[39m\u001B[38;5;241m.\u001B[39m_contraction \u001B[38;5;129;01mis\u001B[39;00m \u001B[38;5;28;01mNone\u001B[39;00m:\n\u001B[1;32m    779\u001B[0m     \u001B[38;5;66;03m# this is the default\u001B[39;00m\n\u001B[1;32m    780\u001B[0m     \u001B[38;5;28;01mreturn\u001B[39;00m numpy\u001B[38;5;241m.\u001B[39msum(data)\n",
      "File \u001B[0;32m/opt/anaconda3/envs/BlogQA/lib/python3.9/site-packages/tequila/simulators/simulator_base.py:867\u001B[0m, in \u001B[0;36mBackendExpectationValue.sample\u001B[0;34m(self, variables, samples, *args, **kwargs)\u001B[0m\n\u001B[1;32m    865\u001B[0m     \u001B[38;5;28;01melse\u001B[39;00m:\n\u001B[1;32m    866\u001B[0m         \u001B[38;5;28;01mfor\u001B[39;00m ps \u001B[38;5;129;01min\u001B[39;00m H\u001B[38;5;241m.\u001B[39mpaulistrings:\n\u001B[0;32m--> 867\u001B[0m             E \u001B[38;5;241m+\u001B[39m\u001B[38;5;241m=\u001B[39m \u001B[38;5;28;43mself\u001B[39;49m\u001B[38;5;241;43m.\u001B[39;49m\u001B[43mU\u001B[49m\u001B[38;5;241;43m.\u001B[39;49m\u001B[43msample_paulistring\u001B[49m\u001B[43m(\u001B[49m\u001B[43msamples\u001B[49m\u001B[38;5;241;43m=\u001B[39;49m\u001B[43msamples\u001B[49m\u001B[43m,\u001B[49m\u001B[43m \u001B[49m\u001B[43mpaulistring\u001B[49m\u001B[38;5;241;43m=\u001B[39;49m\u001B[43mps\u001B[49m\u001B[43m,\u001B[49m\u001B[43m \u001B[49m\u001B[43mvariables\u001B[49m\u001B[38;5;241;43m=\u001B[39;49m\u001B[43mvariables\u001B[49m\u001B[43m,\u001B[49m\u001B[43m \u001B[49m\u001B[38;5;241;43m*\u001B[39;49m\u001B[43margs\u001B[49m\u001B[43m,\u001B[49m\n\u001B[1;32m    868\u001B[0m \u001B[43m                                           \u001B[49m\u001B[38;5;241;43m*\u001B[39;49m\u001B[38;5;241;43m*\u001B[39;49m\u001B[43mkwargs\u001B[49m\u001B[43m)\u001B[49m\n\u001B[1;32m    869\u001B[0m     result\u001B[38;5;241m.\u001B[39mappend(to_float(E))\n\u001B[1;32m    870\u001B[0m \u001B[38;5;28;01mreturn\u001B[39;00m numpy\u001B[38;5;241m.\u001B[39masarray(result)\n",
      "File \u001B[0;32m/opt/anaconda3/envs/BlogQA/lib/python3.9/site-packages/tequila/simulators/simulator_base.py:492\u001B[0m, in \u001B[0;36mBackendCircuit.sample_paulistring\u001B[0;34m(self, samples, paulistring, variables, *args, **kwargs)\u001B[0m\n\u001B[1;32m    490\u001B[0m circuit \u001B[38;5;241m=\u001B[39m \u001B[38;5;28mself\u001B[39m\u001B[38;5;241m.\u001B[39mcreate_circuit(circuit\u001B[38;5;241m=\u001B[39mcopy\u001B[38;5;241m.\u001B[39mdeepcopy(\u001B[38;5;28mself\u001B[39m\u001B[38;5;241m.\u001B[39mcircuit), abstract_circuit\u001B[38;5;241m=\u001B[39mbasis_change)\n\u001B[1;32m    491\u001B[0m \u001B[38;5;66;03m# run simulators\u001B[39;00m\n\u001B[0;32m--> 492\u001B[0m counts \u001B[38;5;241m=\u001B[39m \u001B[38;5;28;43mself\u001B[39;49m\u001B[38;5;241;43m.\u001B[39;49m\u001B[43msample\u001B[49m\u001B[43m(\u001B[49m\u001B[43msamples\u001B[49m\u001B[38;5;241;43m=\u001B[39;49m\u001B[43msamples\u001B[49m\u001B[43m,\u001B[49m\u001B[43m \u001B[49m\u001B[43mcircuit\u001B[49m\u001B[38;5;241;43m=\u001B[39;49m\u001B[43mcircuit\u001B[49m\u001B[43m,\u001B[49m\u001B[43m \u001B[49m\u001B[43mread_out_qubits\u001B[49m\u001B[38;5;241;43m=\u001B[39;49m\u001B[43mqubits\u001B[49m\u001B[43m,\u001B[49m\u001B[43m \u001B[49m\u001B[43mvariables\u001B[49m\u001B[38;5;241;43m=\u001B[39;49m\u001B[43mvariables\u001B[49m\u001B[43m,\u001B[49m\u001B[43m \u001B[49m\u001B[38;5;241;43m*\u001B[39;49m\u001B[43margs\u001B[49m\u001B[43m,\u001B[49m\n\u001B[1;32m    493\u001B[0m \u001B[43m                     \u001B[49m\u001B[38;5;241;43m*\u001B[39;49m\u001B[38;5;241;43m*\u001B[39;49m\u001B[43mkwargs\u001B[49m\u001B[43m)\u001B[49m\n\u001B[1;32m    494\u001B[0m \u001B[38;5;66;03m# compute energy\u001B[39;00m\n\u001B[1;32m    495\u001B[0m E \u001B[38;5;241m=\u001B[39m \u001B[38;5;241m0.0\u001B[39m\n",
      "File \u001B[0;32m/opt/anaconda3/envs/BlogQA/lib/python3.9/site-packages/tequila/simulators/simulator_base.py:401\u001B[0m, in \u001B[0;36mBackendCircuit.sample\u001B[0;34m(self, variables, samples, read_out_qubits, circuit, *args, **kwargs)\u001B[0m\n\u001B[1;32m    399\u001B[0m \u001B[38;5;28;01melse\u001B[39;00m:\n\u001B[1;32m    400\u001B[0m     circuit \u001B[38;5;241m=\u001B[39m \u001B[38;5;28mself\u001B[39m\u001B[38;5;241m.\u001B[39madd_measurement(circuit\u001B[38;5;241m=\u001B[39mcircuit, target_qubits\u001B[38;5;241m=\u001B[39mread_out_qubits)\n\u001B[0;32m--> 401\u001B[0m \u001B[38;5;28;01mreturn\u001B[39;00m \u001B[38;5;28;43mself\u001B[39;49m\u001B[38;5;241;43m.\u001B[39;49m\u001B[43mdo_sample\u001B[49m\u001B[43m(\u001B[49m\u001B[43msamples\u001B[49m\u001B[38;5;241;43m=\u001B[39;49m\u001B[43msamples\u001B[49m\u001B[43m,\u001B[49m\u001B[43m \u001B[49m\u001B[43mcircuit\u001B[49m\u001B[38;5;241;43m=\u001B[39;49m\u001B[43mcircuit\u001B[49m\u001B[43m,\u001B[49m\u001B[43m \u001B[49m\u001B[43mread_out_qubits\u001B[49m\u001B[38;5;241;43m=\u001B[39;49m\u001B[43mread_out_qubits\u001B[49m\u001B[43m,\u001B[49m\u001B[43m \u001B[49m\u001B[38;5;241;43m*\u001B[39;49m\u001B[43margs\u001B[49m\u001B[43m,\u001B[49m\u001B[43m \u001B[49m\u001B[38;5;241;43m*\u001B[39;49m\u001B[38;5;241;43m*\u001B[39;49m\u001B[43mkwargs\u001B[49m\u001B[43m)\u001B[49m\n",
      "File \u001B[0;32m/opt/anaconda3/envs/BlogQA/lib/python3.9/site-packages/tequila/simulators/simulator_pyquil.py:467\u001B[0m, in \u001B[0;36mBackendCircuitPyquil.do_sample\u001B[0;34m(self, samples, circuit, *args, **kwargs)\u001B[0m\n\u001B[1;32m    464\u001B[0m p \u001B[38;5;241m=\u001B[39m circuit\n\u001B[1;32m    466\u001B[0m \u001B[38;5;28;01mif\u001B[39;00m \u001B[38;5;28mself\u001B[39m\u001B[38;5;241m.\u001B[39mdevice \u001B[38;5;129;01mis\u001B[39;00m \u001B[38;5;28;01mNone\u001B[39;00m:\n\u001B[0;32m--> 467\u001B[0m     qc \u001B[38;5;241m=\u001B[39m \u001B[43mget_qc\u001B[49m\u001B[43m(\u001B[49m\u001B[38;5;124;43m'\u001B[39;49m\u001B[38;5;132;43;01m{}\u001B[39;49;00m\u001B[38;5;124;43mq-qvm\u001B[39;49m\u001B[38;5;124;43m'\u001B[39;49m\u001B[38;5;241;43m.\u001B[39;49m\u001B[43mformat\u001B[49m\u001B[43m(\u001B[49m\u001B[38;5;28;43mstr\u001B[39;49m\u001B[43m(\u001B[49m\u001B[43mn_qubits\u001B[49m\u001B[43m)\u001B[49m\u001B[43m)\u001B[49m\u001B[43m)\u001B[49m\n\u001B[1;32m    468\u001B[0m     p\u001B[38;5;241m.\u001B[39mwrap_in_numshots_loop(samples)\n\u001B[1;32m    469\u001B[0m \u001B[38;5;28;01melse\u001B[39;00m:\n",
      "File \u001B[0;32m/opt/anaconda3/envs/BlogQA/lib/python3.9/site-packages/pyquil/api/_quantum_computer.py:824\u001B[0m, in \u001B[0;36mget_qc\u001B[0;34m(***failed resolving arguments***)\u001B[0m\n\u001B[1;32m    822\u001B[0m     \u001B[38;5;28;01mif\u001B[39;00m qvm_type \u001B[38;5;129;01mis\u001B[39;00m \u001B[38;5;28;01mNone\u001B[39;00m:\n\u001B[1;32m    823\u001B[0m         \u001B[38;5;28;01mraise\u001B[39;00m \u001B[38;5;167;01mValueError\u001B[39;00m(\u001B[38;5;124m\"\u001B[39m\u001B[38;5;124mPlease name a valid quantum_processor or run as a QVM\u001B[39m\u001B[38;5;124m\"\u001B[39m)\n\u001B[0;32m--> 824\u001B[0m     \u001B[38;5;28;01mreturn\u001B[39;00m \u001B[43m_get_unrestricted_qvm\u001B[49m\u001B[43m(\u001B[49m\n\u001B[1;32m    825\u001B[0m \u001B[43m        \u001B[49m\u001B[43mclient_configuration\u001B[49m\u001B[38;5;241;43m=\u001B[39;49m\u001B[43mclient_configuration\u001B[49m\u001B[43m,\u001B[49m\n\u001B[1;32m    826\u001B[0m \u001B[43m        \u001B[49m\u001B[43mname\u001B[49m\u001B[38;5;241;43m=\u001B[39;49m\u001B[43mname\u001B[49m\u001B[43m,\u001B[49m\n\u001B[1;32m    827\u001B[0m \u001B[43m        \u001B[49m\u001B[43mnoisy\u001B[49m\u001B[38;5;241;43m=\u001B[39;49m\u001B[43mnoisy\u001B[49m\u001B[43m,\u001B[49m\n\u001B[1;32m    828\u001B[0m \u001B[43m        \u001B[49m\u001B[43mn_qubits\u001B[49m\u001B[38;5;241;43m=\u001B[39;49m\u001B[43mn_qubits\u001B[49m\u001B[43m,\u001B[49m\n\u001B[1;32m    829\u001B[0m \u001B[43m        \u001B[49m\u001B[43mqvm_type\u001B[49m\u001B[38;5;241;43m=\u001B[39;49m\u001B[43mqvm_type\u001B[49m\u001B[43m,\u001B[49m\n\u001B[1;32m    830\u001B[0m \u001B[43m        \u001B[49m\u001B[43mcompiler_timeout\u001B[49m\u001B[38;5;241;43m=\u001B[39;49m\u001B[43mcompiler_timeout\u001B[49m\u001B[43m,\u001B[49m\n\u001B[1;32m    831\u001B[0m \u001B[43m        \u001B[49m\u001B[43mexecution_timeout\u001B[49m\u001B[38;5;241;43m=\u001B[39;49m\u001B[43mexecution_timeout\u001B[49m\u001B[43m,\u001B[49m\n\u001B[1;32m    832\u001B[0m \u001B[43m        \u001B[49m\u001B[43mquilc_client\u001B[49m\u001B[38;5;241;43m=\u001B[39;49m\u001B[43mquilc_client\u001B[49m\u001B[43m,\u001B[49m\n\u001B[1;32m    833\u001B[0m \u001B[43m        \u001B[49m\u001B[43mqvm_client\u001B[49m\u001B[38;5;241;43m=\u001B[39;49m\u001B[43mqvm_client\u001B[49m\u001B[43m,\u001B[49m\n\u001B[1;32m    834\u001B[0m \u001B[43m    \u001B[49m\u001B[43m)\u001B[49m\n\u001B[1;32m    836\u001B[0m \u001B[38;5;66;03m# 3. Check for \"9q-square\" qvm\u001B[39;00m\n\u001B[1;32m    837\u001B[0m \u001B[38;5;28;01mif\u001B[39;00m prefix \u001B[38;5;241m==\u001B[39m \u001B[38;5;124m\"\u001B[39m\u001B[38;5;124m9q-square\u001B[39m\u001B[38;5;124m\"\u001B[39m:\n",
      "File \u001B[0;32m/opt/anaconda3/envs/BlogQA/lib/python3.9/site-packages/pyquil/api/_quantum_computer.py:668\u001B[0m, in \u001B[0;36m_get_unrestricted_qvm\u001B[0;34m(client_configuration, name, noisy, n_qubits, qvm_type, compiler_timeout, execution_timeout, quilc_client, qvm_client)\u001B[0m\n\u001B[1;32m    654\u001B[0m \u001B[38;5;250m\u001B[39m\u001B[38;5;124;03m\"\"\"QVM with a fully-connected topology.\u001B[39;00m\n\u001B[1;32m    655\u001B[0m \n\u001B[1;32m    656\u001B[0m \u001B[38;5;124;03mThis is obviously the least realistic QVM, but who am I to tell users what they want.\u001B[39;00m\n\u001B[0;32m   (...)\u001B[0m\n\u001B[1;32m    665\u001B[0m \u001B[38;5;124;03m:return: A pre-configured QuantumComputer\u001B[39;00m\n\u001B[1;32m    666\u001B[0m \u001B[38;5;124;03m\"\"\"\u001B[39;00m\n\u001B[1;32m    667\u001B[0m topology \u001B[38;5;241m=\u001B[39m nx\u001B[38;5;241m.\u001B[39mcomplete_graph(n_qubits)\n\u001B[0;32m--> 668\u001B[0m \u001B[38;5;28;01mreturn\u001B[39;00m \u001B[43m_get_qvm_with_topology\u001B[49m\u001B[43m(\u001B[49m\n\u001B[1;32m    669\u001B[0m \u001B[43m    \u001B[49m\u001B[43mclient_configuration\u001B[49m\u001B[38;5;241;43m=\u001B[39;49m\u001B[43mclient_configuration\u001B[49m\u001B[43m,\u001B[49m\n\u001B[1;32m    670\u001B[0m \u001B[43m    \u001B[49m\u001B[43mname\u001B[49m\u001B[38;5;241;43m=\u001B[39;49m\u001B[43mname\u001B[49m\u001B[43m,\u001B[49m\n\u001B[1;32m    671\u001B[0m \u001B[43m    \u001B[49m\u001B[43mtopology\u001B[49m\u001B[38;5;241;43m=\u001B[39;49m\u001B[43mtopology\u001B[49m\u001B[43m,\u001B[49m\n\u001B[1;32m    672\u001B[0m \u001B[43m    \u001B[49m\u001B[43mnoisy\u001B[49m\u001B[38;5;241;43m=\u001B[39;49m\u001B[43mnoisy\u001B[49m\u001B[43m,\u001B[49m\n\u001B[1;32m    673\u001B[0m \u001B[43m    \u001B[49m\u001B[43mqvm_type\u001B[49m\u001B[38;5;241;43m=\u001B[39;49m\u001B[43mqvm_type\u001B[49m\u001B[43m,\u001B[49m\n\u001B[1;32m    674\u001B[0m \u001B[43m    \u001B[49m\u001B[43mcompiler_timeout\u001B[49m\u001B[38;5;241;43m=\u001B[39;49m\u001B[43mcompiler_timeout\u001B[49m\u001B[43m,\u001B[49m\n\u001B[1;32m    675\u001B[0m \u001B[43m    \u001B[49m\u001B[43mexecution_timeout\u001B[49m\u001B[38;5;241;43m=\u001B[39;49m\u001B[43mexecution_timeout\u001B[49m\u001B[43m,\u001B[49m\n\u001B[1;32m    676\u001B[0m \u001B[43m    \u001B[49m\u001B[43mquilc_client\u001B[49m\u001B[38;5;241;43m=\u001B[39;49m\u001B[43mquilc_client\u001B[49m\u001B[43m,\u001B[49m\n\u001B[1;32m    677\u001B[0m \u001B[43m    \u001B[49m\u001B[43mqvm_client\u001B[49m\u001B[38;5;241;43m=\u001B[39;49m\u001B[43mqvm_client\u001B[49m\u001B[43m,\u001B[49m\n\u001B[1;32m    678\u001B[0m \u001B[43m\u001B[49m\u001B[43m)\u001B[49m\n",
      "File \u001B[0;32m/opt/anaconda3/envs/BlogQA/lib/python3.9/site-packages/pyquil/api/_quantum_computer.py:591\u001B[0m, in \u001B[0;36m_get_qvm_with_topology\u001B[0;34m(client_configuration, name, topology, noisy, qvm_type, compiler_timeout, execution_timeout, quilc_client, qvm_client)\u001B[0m\n\u001B[1;32m    589\u001B[0m \u001B[38;5;28;01melse\u001B[39;00m:\n\u001B[1;32m    590\u001B[0m     noise_model \u001B[38;5;241m=\u001B[39m \u001B[38;5;28;01mNone\u001B[39;00m\n\u001B[0;32m--> 591\u001B[0m \u001B[38;5;28;01mreturn\u001B[39;00m \u001B[43m_get_qvm_qc\u001B[49m\u001B[43m(\u001B[49m\n\u001B[1;32m    592\u001B[0m \u001B[43m    \u001B[49m\u001B[43mclient_configuration\u001B[49m\u001B[38;5;241;43m=\u001B[39;49m\u001B[43mclient_configuration\u001B[49m\u001B[43m,\u001B[49m\n\u001B[1;32m    593\u001B[0m \u001B[43m    \u001B[49m\u001B[43mname\u001B[49m\u001B[38;5;241;43m=\u001B[39;49m\u001B[43mname\u001B[49m\u001B[43m,\u001B[49m\n\u001B[1;32m    594\u001B[0m \u001B[43m    \u001B[49m\u001B[43mqvm_type\u001B[49m\u001B[38;5;241;43m=\u001B[39;49m\u001B[43mqvm_type\u001B[49m\u001B[43m,\u001B[49m\n\u001B[1;32m    595\u001B[0m \u001B[43m    \u001B[49m\u001B[43mquantum_processor\u001B[49m\u001B[38;5;241;43m=\u001B[39;49m\u001B[43mquantum_processor\u001B[49m\u001B[43m,\u001B[49m\n\u001B[1;32m    596\u001B[0m \u001B[43m    \u001B[49m\u001B[43mnoise_model\u001B[49m\u001B[38;5;241;43m=\u001B[39;49m\u001B[43mnoise_model\u001B[49m\u001B[43m,\u001B[49m\n\u001B[1;32m    597\u001B[0m \u001B[43m    \u001B[49m\u001B[43mcompiler_timeout\u001B[49m\u001B[38;5;241;43m=\u001B[39;49m\u001B[43mcompiler_timeout\u001B[49m\u001B[43m,\u001B[49m\n\u001B[1;32m    598\u001B[0m \u001B[43m    \u001B[49m\u001B[43mexecution_timeout\u001B[49m\u001B[38;5;241;43m=\u001B[39;49m\u001B[43mexecution_timeout\u001B[49m\u001B[43m,\u001B[49m\n\u001B[1;32m    599\u001B[0m \u001B[43m    \u001B[49m\u001B[43mquilc_client\u001B[49m\u001B[38;5;241;43m=\u001B[39;49m\u001B[43mquilc_client\u001B[49m\u001B[43m,\u001B[49m\n\u001B[1;32m    600\u001B[0m \u001B[43m    \u001B[49m\u001B[43mqvm_client\u001B[49m\u001B[38;5;241;43m=\u001B[39;49m\u001B[43mqvm_client\u001B[49m\u001B[43m,\u001B[49m\n\u001B[1;32m    601\u001B[0m \u001B[43m\u001B[49m\u001B[43m)\u001B[49m\n",
      "File \u001B[0;32m/opt/anaconda3/envs/BlogQA/lib/python3.9/site-packages/pyquil/api/_quantum_computer.py:541\u001B[0m, in \u001B[0;36m_get_qvm_qc\u001B[0;34m(client_configuration, name, qvm_type, quantum_processor, compiler_timeout, execution_timeout, noise_model, quilc_client, qvm_client)\u001B[0m\n\u001B[1;32m    514\u001B[0m \u001B[38;5;28;01mdef\u001B[39;00m \u001B[38;5;21m_get_qvm_qc\u001B[39m(\n\u001B[1;32m    515\u001B[0m     \u001B[38;5;241m*\u001B[39m,\n\u001B[1;32m    516\u001B[0m     client_configuration: QCSClient,\n\u001B[0;32m   (...)\u001B[0m\n\u001B[1;32m    524\u001B[0m     qvm_client: Optional[QVMClient] \u001B[38;5;241m=\u001B[39m \u001B[38;5;28;01mNone\u001B[39;00m,\n\u001B[1;32m    525\u001B[0m ) \u001B[38;5;241m-\u001B[39m\u001B[38;5;241m>\u001B[39m QuantumComputer:\n\u001B[1;32m    526\u001B[0m \u001B[38;5;250m    \u001B[39m\u001B[38;5;124;03m\"\"\"Construct a QuantumComputer backed by a QVM.\u001B[39;00m\n\u001B[1;32m    527\u001B[0m \n\u001B[1;32m    528\u001B[0m \u001B[38;5;124;03m    This is a minimal wrapper over the QuantumComputer, QVM, and QVMCompiler constructors.\u001B[39;00m\n\u001B[0;32m   (...)\u001B[0m\n\u001B[1;32m    537\u001B[0m \u001B[38;5;124;03m    :return: A QuantumComputer backed by a QVM with the above options.\u001B[39;00m\n\u001B[1;32m    538\u001B[0m \u001B[38;5;124;03m    \"\"\"\u001B[39;00m\n\u001B[1;32m    539\u001B[0m     \u001B[38;5;28;01mreturn\u001B[39;00m QuantumComputer(\n\u001B[1;32m    540\u001B[0m         name\u001B[38;5;241m=\u001B[39mname,\n\u001B[0;32m--> 541\u001B[0m         qam\u001B[38;5;241m=\u001B[39m\u001B[43m_get_qvm_or_pyqvm\u001B[49m\u001B[43m(\u001B[49m\n\u001B[1;32m    542\u001B[0m \u001B[43m            \u001B[49m\u001B[43mqvm_type\u001B[49m\u001B[38;5;241;43m=\u001B[39;49m\u001B[43mqvm_type\u001B[49m\u001B[43m,\u001B[49m\n\u001B[1;32m    543\u001B[0m \u001B[43m            \u001B[49m\u001B[43mnoise_model\u001B[49m\u001B[38;5;241;43m=\u001B[39;49m\u001B[43mnoise_model\u001B[49m\u001B[43m,\u001B[49m\n\u001B[1;32m    544\u001B[0m \u001B[43m            \u001B[49m\u001B[43mquantum_processor\u001B[49m\u001B[38;5;241;43m=\u001B[39;49m\u001B[43mquantum_processor\u001B[49m\u001B[43m,\u001B[49m\n\u001B[1;32m    545\u001B[0m \u001B[43m            \u001B[49m\u001B[43mexecution_timeout\u001B[49m\u001B[38;5;241;43m=\u001B[39;49m\u001B[43mexecution_timeout\u001B[49m\u001B[43m,\u001B[49m\n\u001B[1;32m    546\u001B[0m \u001B[43m            \u001B[49m\u001B[43mqvm_client\u001B[49m\u001B[38;5;241;43m=\u001B[39;49m\u001B[43mqvm_client\u001B[49m\u001B[43m,\u001B[49m\n\u001B[1;32m    547\u001B[0m \u001B[43m        \u001B[49m\u001B[43m)\u001B[49m,\n\u001B[1;32m    548\u001B[0m         compiler\u001B[38;5;241m=\u001B[39mQVMCompiler(\n\u001B[1;32m    549\u001B[0m             quantum_processor\u001B[38;5;241m=\u001B[39mquantum_processor,\n\u001B[1;32m    550\u001B[0m             timeout\u001B[38;5;241m=\u001B[39mcompiler_timeout,\n\u001B[1;32m    551\u001B[0m             client_configuration\u001B[38;5;241m=\u001B[39mclient_configuration,\n\u001B[1;32m    552\u001B[0m             quilc_client\u001B[38;5;241m=\u001B[39mquilc_client,\n\u001B[1;32m    553\u001B[0m         ),\n\u001B[1;32m    554\u001B[0m     )\n",
      "File \u001B[0;32m/opt/anaconda3/envs/BlogQA/lib/python3.9/site-packages/pyquil/api/_quantum_computer.py:505\u001B[0m, in \u001B[0;36m_get_qvm_or_pyqvm\u001B[0;34m(qvm_type, qvm_client, noise_model, quantum_processor, execution_timeout)\u001B[0m\n\u001B[1;32m    496\u001B[0m \u001B[38;5;28;01mdef\u001B[39;00m \u001B[38;5;21m_get_qvm_or_pyqvm\u001B[39m(\n\u001B[1;32m    497\u001B[0m     \u001B[38;5;241m*\u001B[39m,\n\u001B[1;32m    498\u001B[0m     qvm_type: \u001B[38;5;28mstr\u001B[39m,\n\u001B[0;32m   (...)\u001B[0m\n\u001B[1;32m    502\u001B[0m     execution_timeout: \u001B[38;5;28mfloat\u001B[39m,\n\u001B[1;32m    503\u001B[0m ) \u001B[38;5;241m-\u001B[39m\u001B[38;5;241m>\u001B[39m Union[QVM, PyQVM]:\n\u001B[1;32m    504\u001B[0m     \u001B[38;5;28;01mif\u001B[39;00m qvm_type \u001B[38;5;241m==\u001B[39m \u001B[38;5;124m\"\u001B[39m\u001B[38;5;124mqvm\u001B[39m\u001B[38;5;124m\"\u001B[39m:\n\u001B[0;32m--> 505\u001B[0m         \u001B[38;5;28;01mreturn\u001B[39;00m \u001B[43mQVM\u001B[49m\u001B[43m(\u001B[49m\u001B[43mnoise_model\u001B[49m\u001B[38;5;241;43m=\u001B[39;49m\u001B[43mnoise_model\u001B[49m\u001B[43m,\u001B[49m\u001B[43m \u001B[49m\u001B[43mtimeout\u001B[49m\u001B[38;5;241;43m=\u001B[39;49m\u001B[43mexecution_timeout\u001B[49m\u001B[43m,\u001B[49m\u001B[43m \u001B[49m\u001B[43mclient\u001B[49m\u001B[38;5;241;43m=\u001B[39;49m\u001B[43mqvm_client\u001B[49m\u001B[43m)\u001B[49m\n\u001B[1;32m    506\u001B[0m     \u001B[38;5;28;01melif\u001B[39;00m qvm_type \u001B[38;5;241m==\u001B[39m \u001B[38;5;124m\"\u001B[39m\u001B[38;5;124mpyqvm\u001B[39m\u001B[38;5;124m\"\u001B[39m:\n\u001B[1;32m    507\u001B[0m         \u001B[38;5;28;01mif\u001B[39;00m quantum_processor \u001B[38;5;129;01mis\u001B[39;00m \u001B[38;5;28;01mNone\u001B[39;00m:\n",
      "File \u001B[0;32m/opt/anaconda3/envs/BlogQA/lib/python3.9/site-packages/pyquil/api/_qvm.py:119\u001B[0m, in \u001B[0;36mQVM.__init__\u001B[0;34m(self, noise_model, gate_noise, measurement_noise, random_seed, timeout, client)\u001B[0m\n\u001B[1;32m    116\u001B[0m     client \u001B[38;5;241m=\u001B[39m QVMClient\u001B[38;5;241m.\u001B[39mnew_http(QCSClient\u001B[38;5;241m.\u001B[39mload()\u001B[38;5;241m.\u001B[39mqvm_url)\n\u001B[1;32m    117\u001B[0m \u001B[38;5;28mself\u001B[39m\u001B[38;5;241m.\u001B[39m_client \u001B[38;5;241m=\u001B[39m client\n\u001B[0;32m--> 119\u001B[0m \u001B[38;5;28;43mself\u001B[39;49m\u001B[38;5;241;43m.\u001B[39;49m\u001B[43mconnect\u001B[49m\u001B[43m(\u001B[49m\u001B[43m)\u001B[49m\n",
      "File \u001B[0;32m/opt/anaconda3/envs/BlogQA/lib/python3.9/site-packages/pyquil/api/_qvm.py:123\u001B[0m, in \u001B[0;36mQVM.connect\u001B[0;34m(self)\u001B[0m\n\u001B[1;32m    121\u001B[0m \u001B[38;5;28;01mdef\u001B[39;00m \u001B[38;5;21mconnect\u001B[39m(\u001B[38;5;28mself\u001B[39m) \u001B[38;5;241m-\u001B[39m\u001B[38;5;241m>\u001B[39m \u001B[38;5;28;01mNone\u001B[39;00m:\n\u001B[1;32m    122\u001B[0m     \u001B[38;5;28;01mtry\u001B[39;00m:\n\u001B[0;32m--> 123\u001B[0m         version \u001B[38;5;241m=\u001B[39m \u001B[38;5;28;43mself\u001B[39;49m\u001B[38;5;241;43m.\u001B[39;49m\u001B[43mget_version_info\u001B[49m\u001B[43m(\u001B[49m\u001B[43m)\u001B[49m\n\u001B[1;32m    124\u001B[0m         check_qvm_version(version)\n\u001B[1;32m    125\u001B[0m     \u001B[38;5;28;01mexcept\u001B[39;00m \u001B[38;5;167;01mConnectionError\u001B[39;00m:\n",
      "File \u001B[0;32m/opt/anaconda3/envs/BlogQA/lib/python3.9/site-packages/pyquil/api/_qvm.py:180\u001B[0m, in \u001B[0;36mQVM.get_version_info\u001B[0;34m(self)\u001B[0m\n\u001B[1;32m    175\u001B[0m \u001B[38;5;28;01mdef\u001B[39;00m \u001B[38;5;21mget_version_info\u001B[39m(\u001B[38;5;28mself\u001B[39m) \u001B[38;5;241m-\u001B[39m\u001B[38;5;241m>\u001B[39m \u001B[38;5;28mstr\u001B[39m:\n\u001B[1;32m    176\u001B[0m \u001B[38;5;250m    \u001B[39m\u001B[38;5;124;03m\"\"\"Return version information for the QVM.\u001B[39;00m\n\u001B[1;32m    177\u001B[0m \n\u001B[1;32m    178\u001B[0m \u001B[38;5;124;03m    :return: String with version information\u001B[39;00m\n\u001B[1;32m    179\u001B[0m \u001B[38;5;124;03m    \"\"\"\u001B[39;00m\n\u001B[0;32m--> 180\u001B[0m     \u001B[38;5;28;01mreturn\u001B[39;00m \u001B[43mqvm\u001B[49m\u001B[38;5;241;43m.\u001B[39;49m\u001B[43mapi\u001B[49m\u001B[38;5;241;43m.\u001B[39;49m\u001B[43mget_version_info\u001B[49m\u001B[43m(\u001B[49m\u001B[38;5;28;43mself\u001B[39;49m\u001B[38;5;241;43m.\u001B[39;49m\u001B[43m_client\u001B[49m\u001B[43m,\u001B[49m\u001B[43m \u001B[49m\u001B[43moptions\u001B[49m\u001B[38;5;241;43m=\u001B[39;49m\u001B[43mQVMOptions\u001B[49m\u001B[43m(\u001B[49m\u001B[43mtimeout_seconds\u001B[49m\u001B[38;5;241;43m=\u001B[39;49m\u001B[38;5;28;43mself\u001B[39;49m\u001B[38;5;241;43m.\u001B[39;49m\u001B[43mtimeout\u001B[49m\u001B[43m)\u001B[49m\u001B[43m)\u001B[49m\n",
      "\u001B[0;31mQVMError\u001B[0m: Could not communicate with QVM at http://127.0.0.1:5000"
     ]
    }
   ],
   "execution_count": 20
  },
  {
   "cell_type": "markdown",
   "metadata": {},
   "source": [
    "# Can I compile Objectives into different backends?\n",
    "Yes you can. Tequila will print a warning if this happens. Warnings can be ignored by filtering them out (see the python warnings documentation)  \n",
    "\n",
    "If a compiled circuit is used as input to compile then tequila will re-compile the circuit to the new backend (it it differs from the previous one)  \n",
    "\n",
    "If a compiled objective is used as input to compile then tequila will only compile non-compiled expectationvalues into the different backend. Already compiled expectation values will remain untouched  \n",
    "\n",
    "Note that you need at least two different backends for the following cell to execute.  \n",
    "Just change the key to whatever you have installed."
   ]
  },
  {
   "cell_type": "code",
   "metadata": {
    "ExecuteTime": {
     "end_time": "2024-09-03T08:59:21.962677Z",
     "start_time": "2024-09-03T08:59:21.962628Z"
    }
   },
   "source": [
    "backend1 = \"qulacs\"\n",
    "backend2 = \"cirq\"\n",
    "\n",
    "U = tq.gates.X(target=[0,1])\n",
    "print(\"Example Circuit: \", U)\n",
    "compiled_1 = tq.compile(U, backend=backend1)\n",
    "compiled_2 = tq.compile(compiled_1, backend=backend2)\n",
    "print(\"Circuit compiled to {} -> \".format(backend1), compiled_1)\n",
    "print(\"Circuit compiled to {} -> \".format(backend1), compiled_1)\n",
    "\n",
    "H = tq.paulis.X(0)*tq.paulis.Y(1) + tq.paulis.X([0,1])\n",
    "print(\"\\nmake objective with H = \", H)\n",
    "objective = tq.ExpectationValue(H=H, U=U)\n",
    "compiled_1 = tq.compile(objective, backend=backend1)\n",
    "\n",
    "print(\"\\nExpectationValues of objective 1:\")\n",
    "print(compiled_1)\n",
    "    \n",
    "objective2 = compiled_1 + objective # Its recommended to avoid those hybrids, but in principle it works\n",
    "\n",
    "print(\"\\nExpectationValues of partly compiled objective:\")\n",
    "print(objective2)\n",
    "    \n",
    "compiled_2 = tq.compile(objective2, backend=backend2)\n",
    "print(\"\\nExpectationValues of hybdrid compiled objective:\")\n",
    "print(compiled_2)\n",
    "\n",
    "\n"
   ],
   "outputs": [],
   "execution_count": null
  },
  {
   "cell_type": "markdown",
   "metadata": {},
   "source": [
    "# How do I transform Measurements into Hamiltonians?\n",
    "\n",
    "We can not answer this question in general, but we can try to give a small example here.  \n",
    "\n",
    "Assume you have a quantum circuit with $4$ Qubits and you are measuring Qubit $0$ and $2$. \n",
    "You define your cost function in the following way:\n",
    "\n",
    "$$\n",
    "L(AB) = A + B, \\qquad A,B \\in \\left\\{ 0,1 \\right\\}  \n",
    "$$\n",
    "\n",
    "meaning you accumulate the number of ones measured in your circuit.  \n",
    "\n",
    "The corresponding expectationvalue would be  \n",
    "\n",
    "$$\n",
    "L = \\langle \\Psi \\rvert H \\lvert \\Psi \\rangle \\qquad H = 1 - \\frac{1}{2}\\left(Z(0) + Z(1)\\right) \n",
    "$$\n",
    "\n",
    "The Hamiltonian could also be written as\n",
    "\n",
    "$$\n",
    "H = 2\\lvert 11 \\rangle \\langle 11 \\rvert + \\lvert 10 \\rangle \\langle 10 \\rvert + \\lvert 01 \\rangle \\langle 01 \\rvert\n",
    "$$\n",
    "\n",
    "Tequila provides the convenience function `tq.gates.Projector` to initialize Hamiltonians like that\n"
   ]
  },
  {
   "cell_type": "code",
   "metadata": {},
   "source": [
    "2*tq.paulis.Projector(\"|11>\") + tq.paulis.Projector(\"|01>\") + tq.paulis.Projector(\"|10>\")"
   ],
   "outputs": [],
   "execution_count": null
  },
  {
   "cell_type": "markdown",
   "metadata": {},
   "source": [
    "The projector can also be initialized with more structured `QubitWaveFunction`s which can itself be initialized from array or string.  \n",
    "Here are some examples"
   ]
  },
  {
   "cell_type": "code",
   "metadata": {},
   "source": [
    "wfn = tq.QubitWaveFunction.from_string(\"1.0*|00> + 1.0*|11>\")\n",
    "wfnx = tq.QubitWaveFunction.from_array(arr=[1.0, 0.0, 0.0, 1.0])\n",
    "print(wfn == wfnx)\n",
    "wfn = wfn.normalize()\n",
    "print(wfn)\n",
    "\n",
    "P = tq.paulis.Projector(wfn=wfn)\n",
    "print(\"P = \", P)"
   ],
   "outputs": [],
   "execution_count": null
  },
  {
   "cell_type": "markdown",
   "metadata": {},
   "source": [
    "Apart from `Projector` there is also `KetBra` which intialized more general operators like\n",
    "$$\n",
    "\\lvert \\Psi \\rangle \\langle \\Phi \\rvert\n",
    "$$\n",
    "\n",
    "Keep in mind that those are not hermitian.  \n",
    "But they can be split up into their hermitian and anti hermitian part where both can then be used as hamiltonians for expectationvalues.\n",
    "\n",
    "If the `hermitian = True` key is set, the function returns the hermitian version of the operator (which is the same as the hermitian part of the old operator)\n",
    "\n",
    "$$\n",
    "\\frac{1}{2}\\left(\\lvert \\Psi \\rangle \\langle \\Phi \\rvert + \\lvert \\Phi \\rangle \\langle \\Psi \\rvert \\right)\n",
    "$$"
   ]
  },
  {
   "cell_type": "code",
   "metadata": {},
   "source": [
    "wfn1 = tq.QubitWaveFunction.from_string(\"1.0*|00> + 1.0*|11>\").normalize()\n",
    "\n",
    "op = tq.paulis.KetBra(bra=wfn1, ket=\"|00>\")\n",
    "\n",
    "H1, H2 = op.split()\n",
    "\n",
    "print(\"operator=\", op)\n",
    "print(\"hermitian part      = \", H1)\n",
    "print(\"anti-hermitian part =\", H2)\n",
    "\n",
    "H = tq.paulis.KetBra(bra=wfn1, ket=\"|00>\", hermitian=True)\n",
    "print(\"hermitianized operator = \", H)\n"
   ],
   "outputs": [],
   "execution_count": null
  },
  {
   "cell_type": "markdown",
   "metadata": {},
   "source": [
    "# Can I do basic operations on wavefunctions and operators without quantum backends?\n",
    "\n",
    "In principle yes. But keep in mind that tequila was not made for this.  \n",
    "However, some of those operations might come in handy for debugging or small examples.  \n",
    "\n",
    "You can not execute circuits without a simulator since they are just abstract data types (no matrices or anything). Tequila has however its own small debug simulator `backend = symbolic` but there is no reason to use it if you have any other quantum backend installed.\n",
    "\n",
    "Hamiltonians can be converted to matrices.\n",
    "\n",
    "We give a few examples here"
   ]
  },
  {
   "cell_type": "code",
   "metadata": {},
   "source": [
    "wfn = tq.QubitWaveFunction.from_string(\"1.0*|0> + 1.0*|1>\").normalize()\n",
    "H = 1.0/numpy.sqrt(2.0)*(tq.paulis.Z(0) + tq.paulis.X(0))\n",
    "wfn2 = wfn.apply_qubitoperator(H).simplify()\n",
    "\n",
    "print(\"|wfn>  = \", wfn)\n",
    "print(\"H      = \", H)\n",
    "print(\"H|wfn> = \", wfn2)"
   ],
   "outputs": [],
   "execution_count": null
  },
  {
   "cell_type": "code",
   "metadata": {},
   "source": [
    "wfn1 = tq.QubitWaveFunction.from_string(\"1.0*|0> + 1.0*|1>\").normalize()\n",
    "wfn2 = tq.QubitWaveFunction.from_string(\"1.0*|0> - 1.0*|1>\").normalize()\n",
    "print(\"<wfn1|wfn2> = \", wfn1.inner(wfn2))"
   ],
   "execution_count": null,
   "outputs": []
  },
  {
   "cell_type": "code",
   "metadata": {},
   "source": [
    "H = 1.0/numpy.sqrt(2.0)*(tq.paulis.Z(0) + tq.paulis.X(0))\n",
    "print(H.to_matrix())"
   ],
   "outputs": [],
   "execution_count": null
  },
  {
   "cell_type": "markdown",
   "metadata": {},
   "source": [
    "# Can I import an Hamiltonian from OpenFermion?\n",
    "\n",
    "Yes! OpernFermion is currently tequilas backend for Hamiltonians, which makes importing from it straight forward.\n",
    "You just need to wrap the OpenFermion QubitOperator into tequilas QubitHamiltonian.\n",
    "\n",
    "We show a few examples"
   ]
  },
  {
   "cell_type": "code",
   "metadata": {},
   "source": [
    "from openfermion import QubitOperator\n",
    "\n",
    "# get OpenFermion QubitOperator from tequila QubitHamiltonian\n",
    "H = tq.paulis.X(0)\n",
    "of_operator = H.to_openfermion()\n",
    "\n",
    "print(\"{} = {}\".format(type(H), H))\n",
    "print(\"{} = {}\".format(type(of_operator), of_operator))\n",
    "\n",
    "# init tequila QubitHamiltonian with OpenFermion QubitOperator\n",
    "H = tq.QubitHamiltonian.from_openfermion(of_operator)\n",
    "print(\"{} = {}\".format(type(H), H))\n",
    "\n",
    "# initialization from file os often read in the string form\n",
    "of_string = str(of_operator)\n",
    "tq_string = str(H)\n",
    "\n",
    "print(of_string)\n",
    "print(tq_string)\n",
    "\n",
    "H = tq.QubitHamiltonian.from_string(string=of_string, openfermion_format=True)\n",
    "print(H)\n",
    "H = tq.QubitHamiltonian.from_string(string=tq_string, openfermion_format=False)\n",
    "print(H)"
   ],
   "outputs": [],
   "execution_count": null
  },
  {
   "cell_type": "markdown",
   "metadata": {},
   "source": [
    "# Can I compile into a regular function instead of one which takes dictionaries?\n",
    "\n",
    "Not recommended but yes. The order of the function arguments is the order you get from `extract_variables`"
   ]
  },
  {
   "cell_type": "code",
   "metadata": {},
   "source": [
    "U = tq.gates.Ry(angle=\"a\", target=0)\n",
    "U += tq.gates.X(power = \"b\", target=1)\n",
    "H = tq.QubitHamiltonian.from_string(\"X(0)Z(1)\")\n",
    "E = tq.ExpectationValue(H=H, U=U)\n",
    "\n",
    "f = tq.compile_to_function(E)\n",
    "\n",
    "print(\"order is : \", E.extract_variables())\n",
    "print(f(0.5, 1.0))\n",
    "print(tq.simulate(E, variables={\"a\":0.5, \"b\":1.0}))\n"
   ],
   "outputs": [],
   "execution_count": null
  },
  {
   "cell_type": "markdown",
   "metadata": {},
   "source": [
    "If you also want to fix the samples and other entries to your compiled objective you can build wrappers"
   ]
  },
  {
   "cell_type": "code",
   "metadata": {},
   "source": [
    "def mywrapper(compiled_obj, samples):\n",
    "    return lambda *x: compiled_obj(*x, samples=samples)\n",
    "\n",
    "wrapped = mywrapper(f, samples=100)\n",
    "\n",
    "# don't expect same results, since samples are taken individually\n",
    "print(wrapped(1.0, 0.5)) # always takes 100 samples\n",
    "print(f(1.0, 0.5, samples=100)) # samples need to be given\n",
    "print(f(1.0, 0.5, samples=1000)) # but sampling rate can be changed\n",
    "print(f(1.0, 0.5)) # you can go back to full simulation which you cannot with the wrapped function"
   ],
   "outputs": [],
   "execution_count": null
  },
  {
   "cell_type": "markdown",
   "metadata": {},
   "source": [
    "# How do numerical gradients work?\n",
    "\n",
    "Yes this is possible by passing for example `gradient={'method':'2-point', 'stepsize': 1.e-4}` to the `tq.minimize` function.  \n",
    "\n",
    "The default is a central 2-point derivative stencil where `h` is the stepsize:\n",
    "$$\\displaystyle\n",
    "\\frac{\\partial f}{\\partial a} = \\frac{f(a+\\frac{h}{2}) - f(a-\\frac{h}{2})} {h}\n",
    "$$\n",
    "\n",
    "\n",
    "Other methods are:\n",
    "`2-point-forward`: Forward derivative stencil:\n",
    "\n",
    "$$\\displaystyle\n",
    "\\frac{\\partial f}{\\partial a} = \\frac{f(a+h) - f(a)} {h}\n",
    "$$\n",
    "\n",
    "\n",
    "`2-point-backward`: Backward derivative stencil:\n",
    "\n",
    "$$\\displaystyle\n",
    "\\frac{\\partial f}{\\partial a} = \\frac{f(a) - f(a-h)} {h}\n",
    "$$\n",
    "\n",
    "\n",
    "You can also use your own numerical derivative stencil by passing a callable function as `method`.  \n",
    "The function should have the signature which is given in the example below.\n",
    "\n",
    "Here is an example:"
   ]
  },
  {
   "cell_type": "code",
   "metadata": {},
   "source": [
    "import tequila as tq\n",
    "# form a simple example objective\n",
    "H = tq.paulis.X(0)\n",
    "U = tq.gates.Ry(angle=\"a\", target=0)\n",
    "E = tq.ExpectationValue(U=U, H=H)\n",
    "\n",
    "# make it more interesting by using analytical gradients for the objective\n",
    "# and numerical gradients to optimize it\n",
    "\n",
    "objective = tq.grad(E, 'a')**2 # integer multiples of pi/2 are minima\n",
    "\n",
    "# start from the same point in all examples\n",
    "initial_values = {'a': 2.3}"
   ],
   "outputs": [],
   "execution_count": null
  },
  {
   "cell_type": "code",
   "metadata": {},
   "source": [
    "# optimize with analytical derivatives\n",
    "result = tq.minimize(objective=objective, method=\"bfgs\", initial_values=initial_values)\n",
    "#result.history.plot(\"energies\")\n",
    "#result.history.plot(\"gradients\")\n",
    "\n",
    "# optimize with 2-point stencil\n",
    "result = tq.minimize(objective=E, method=\"bfgs\", gradient={'method': '2-point', 'stepsize':1.e-4}, initial_values=initial_values)\n",
    "#result.history.plot(\"energies\")\n",
    "#result.history.plot(\"gradients\")\n",
    "\n",
    "# optimize with custom stencil\n",
    "# here this is the same as the default\n",
    "import copy\n",
    "def mymethod(obj, angles, key, step, *args, **kwargs):\n",
    "    left = copy.deepcopy(angles)\n",
    "    left[key] += step / 2\n",
    "    right = copy.deepcopy(angles)\n",
    "    right[key] -= step / 2\n",
    "    return 1.0 / step * (obj(left, *args, **kwargs) - obj(right, *args, **kwargs))\n",
    "\n",
    "result = tq.minimize(objective=E, method=\"bfgs\", gradient={'method': mymethod, 'stepsize':1.e-4}, initial_values=initial_values)\n",
    "#result.history.plot(\"energies\")\n",
    "#result.history.plot(\"gradients\")\n",
    "\n",
    "# optimize with a scipy method and use scipys 2-point\n",
    "# the scipy protocol will have more function evaluations and less gradient evaluations for some methods\n",
    "# the stepsize in scipy has to be passed with the `method_options` dictionary\n",
    "# with the keyword `eps`\n",
    "result = tq.minimize(objective=E, method=\"bfgs\", gradient='2-point', method_options={'eps':1.e-4}, initial_values=initial_values)\n",
    "#result.history.plot(\"energies\")\n",
    "\n"
   ],
   "outputs": [],
   "execution_count": null
  },
  {
   "cell_type": "markdown",
   "metadata": {},
   "source": [
    "# Can I use the numerical gradient protocols from SciPy?\n",
    "\n",
    "Yes you can for all scipy methods by passing `gradient='2-point'` to `tq.minimize`.  \n",
    "See the scipy documentation for the stepsize and more options which can be passed with `method_options` dictionary where the key for the stepsize is usually `eps`. Note that not all scipy methods support numerical gradients, but you can always fall back to tequilas numerical gradients.\n",
    "See the previous cell for an example."
   ]
  }
 ],
 "metadata": {
  "kernelspec": {
   "display_name": "Python 3",
   "language": "python",
   "name": "python3"
  },
  "language_info": {
   "codemirror_mode": {
    "name": "ipython",
    "version": 3
   },
   "file_extension": ".py",
   "mimetype": "text/x-python",
   "name": "python",
   "nbconvert_exporter": "python",
   "pygments_lexer": "ipython3",
   "version": "3.6.9"
  }
 },
 "nbformat": 4,
 "nbformat_minor": 2
}
